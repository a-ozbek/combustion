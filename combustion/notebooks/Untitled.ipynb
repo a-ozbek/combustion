{
 "cells": [
  {
   "cell_type": "code",
   "execution_count": 1,
   "metadata": {},
   "outputs": [],
   "source": [
    "import numpy as np"
   ]
  },
  {
   "cell_type": "code",
   "execution_count": 18,
   "metadata": {},
   "outputs": [],
   "source": [
    "class Tensor:\n",
    "    \"\"\"\n",
    "    Tensor\n",
    "    \"\"\"\n",
    "    def __init__(self, numpy_array):\n",
    "        self.value = numpy_array\n",
    "        self.previous_tensor = None\n",
    "        self.operation = None\n",
    "        self.grad = None\n",
    "        \n",
    "    def backward(self):\n",
    "        p_ahead = self\n",
    "        p = self.previous_tensor\n",
    "        grad = None\n",
    "        while p is not None:\n",
    "            if p.operation[0] == 'add':\n",
    "                if grad is None:\n",
    "                    grad = 1\n",
    "                else:\n",
    "                    grad = grad\n",
    "            elif p.operation[0] == 'sub':\n",
    "                if grad is None:\n",
    "                    grad = 1\n",
    "                else:\n",
    "                    grad = grad\n",
    "            elif p.operation[0] == 'rsub':\n",
    "                if grad is None:\n",
    "                    grad = -1\n",
    "                else:\n",
    "                    grad = grad * -1\n",
    "            elif p.operation[0] == 'mul':\n",
    "                if grad is None:\n",
    "                    grad = p.operation[1]\n",
    "                else:\n",
    "                    grad = grad * p.operation[1]\n",
    "            else:\n",
    "                raise ValueError(\"Unknown operation\")\n",
    "            print('grad:', grad)\n",
    "            p = p.previous_tensor\n",
    "            p_ahead = p_ahead.previous_tensor\n",
    "        p_ahead.grad = grad\n",
    "        \n",
    "    def __add__(self, other):\n",
    "        self.operation = ('add', other)\n",
    "        operation_result = self.value + other\n",
    "        new_tensor = Tensor(numpy_array=operation_result)\n",
    "        new_tensor.previous_tensor = self\n",
    "        return new_tensor\n",
    "    \n",
    "    def __radd__(self, other):\n",
    "        return self.__add__(other)\n",
    "    \n",
    "    def __sub__(self, other):\n",
    "        self.operation = ('sub', other)\n",
    "        operation_result = self.value - other\n",
    "        new_tensor = Tensor(numpy_array=operation_result)\n",
    "        new_tensor.previous_tensor = self\n",
    "        return new_tensor\n",
    "        \n",
    "    def __rsub__(self, other):\n",
    "        self.operation = ('rsub', other)\n",
    "        operation_result = other - self.value\n",
    "        new_tensor = Tensor(numpy_array=operation_result)\n",
    "        new_tensor.previous_tensor = self\n",
    "        return new_tensor\n",
    "    \n",
    "    def __mul__(self, other):\n",
    "        self.operation = ('mul', other)\n",
    "        operation_result = self.value * other\n",
    "        new_tensor = Tensor(numpy_array=operation_result)\n",
    "        new_tensor.previous_tensor = self\n",
    "        return new_tensor\n",
    "    \n",
    "    def mean(self):\n",
    "        pass\n",
    "    \n",
    "    def __str__(self):\n",
    "        return self.value.__repr__()"
   ]
  },
  {
   "cell_type": "code",
   "execution_count": 19,
   "metadata": {},
   "outputs": [
    {
     "data": {
      "text/plain": [
       "array([[1., 1., 1.],\n",
       "       [1., 1., 1.]])"
      ]
     },
     "execution_count": 19,
     "metadata": {},
     "output_type": "execute_result"
    }
   ],
   "source": [
    "arr = np.ones((2, 3))\n",
    "arr"
   ]
  },
  {
   "cell_type": "code",
   "execution_count": 20,
   "metadata": {},
   "outputs": [
    {
     "data": {
      "text/plain": [
       "<__main__.Tensor at 0x7fefc8593e48>"
      ]
     },
     "execution_count": 20,
     "metadata": {},
     "output_type": "execute_result"
    }
   ],
   "source": [
    "t = Tensor(arr)\n",
    "t"
   ]
  },
  {
   "cell_type": "code",
   "execution_count": 21,
   "metadata": {},
   "outputs": [],
   "source": [
    "t2 = t * 2"
   ]
  },
  {
   "cell_type": "code",
   "execution_count": 22,
   "metadata": {},
   "outputs": [],
   "source": [
    "t3 = t2 * 3"
   ]
  },
  {
   "cell_type": "code",
   "execution_count": 23,
   "metadata": {},
   "outputs": [
    {
     "name": "stdout",
     "output_type": "stream",
     "text": [
      "grad: 3\n",
      "grad: 6\n"
     ]
    }
   ],
   "source": [
    "t3.backward()"
   ]
  },
  {
   "cell_type": "code",
   "execution_count": 27,
   "metadata": {},
   "outputs": [
    {
     "data": {
      "text/plain": [
       "True"
      ]
     },
     "execution_count": 27,
     "metadata": {},
     "output_type": "execute_result"
    }
   ],
   "source": [
    "t3.grad is None"
   ]
  },
  {
   "cell_type": "code",
   "execution_count": null,
   "metadata": {},
   "outputs": [],
   "source": []
  },
  {
   "cell_type": "code",
   "execution_count": 48,
   "metadata": {},
   "outputs": [],
   "source": [
    "import torch"
   ]
  },
  {
   "cell_type": "code",
   "execution_count": 49,
   "metadata": {},
   "outputs": [
    {
     "data": {
      "text/plain": [
       "tensor([[1., 1., 1.],\n",
       "        [1., 1., 1.]], requires_grad=True)"
      ]
     },
     "execution_count": 49,
     "metadata": {},
     "output_type": "execute_result"
    }
   ],
   "source": [
    "a = torch.ones(2, 3, requires_grad=True)\n",
    "a"
   ]
  },
  {
   "cell_type": "code",
   "execution_count": 50,
   "metadata": {},
   "outputs": [],
   "source": [
    "b = a * 1\n",
    "for _ in range(3):\n",
    "    b = b * 2"
   ]
  },
  {
   "cell_type": "code",
   "execution_count": 51,
   "metadata": {},
   "outputs": [],
   "source": [
    "b = b.mean()"
   ]
  },
  {
   "cell_type": "code",
   "execution_count": 52,
   "metadata": {},
   "outputs": [],
   "source": [
    "b.backward()"
   ]
  },
  {
   "cell_type": "code",
   "execution_count": 53,
   "metadata": {},
   "outputs": [
    {
     "data": {
      "text/plain": [
       "tensor([[1.3333, 1.3333, 1.3333],\n",
       "        [1.3333, 1.3333, 1.3333]])"
      ]
     },
     "execution_count": 53,
     "metadata": {},
     "output_type": "execute_result"
    }
   ],
   "source": [
    "a.grad"
   ]
  },
  {
   "cell_type": "code",
   "execution_count": null,
   "metadata": {},
   "outputs": [],
   "source": []
  },
  {
   "cell_type": "code",
   "execution_count": null,
   "metadata": {},
   "outputs": [],
   "source": []
  }
 ],
 "metadata": {
  "kernelspec": {
   "display_name": "Python 3",
   "language": "python",
   "name": "python3"
  },
  "language_info": {
   "codemirror_mode": {
    "name": "ipython",
    "version": 3
   },
   "file_extension": ".py",
   "mimetype": "text/x-python",
   "name": "python",
   "nbconvert_exporter": "python",
   "pygments_lexer": "ipython3",
   "version": "3.7.3"
  }
 },
 "nbformat": 4,
 "nbformat_minor": 2
}
