{
 "cells": [
  {
   "cell_type": "code",
   "execution_count": 1,
   "metadata": {},
   "outputs": [],
   "source": [
    "import uuid\n",
    "import numpy as np"
   ]
  },
  {
   "cell_type": "code",
   "execution_count": 2,
   "metadata": {},
   "outputs": [],
   "source": [
    "class Node:\n",
    "    def __init__(self, tensor):\n",
    "        self.tensor = tensor\n",
    "        self.grad = None\n",
    "        self.operation = None\n",
    "        self.parent_node = None\n",
    "        self.previous_nodes = None\n",
    "        self.tag = str(uuid.uuid4())\n",
    "    \n",
    "    def __repr__(self):\n",
    "        return 'Node: ' + self.tag\n",
    "    \n",
    "    def __str__(self):\n",
    "        return 'Node: ' + self.tag"
   ]
  },
  {
   "cell_type": "code",
   "execution_count": 3,
   "metadata": {},
   "outputs": [],
   "source": [
    "class Tensor:\n",
    "    \"\"\"\n",
    "    Tensor\n",
    "    \"\"\"\n",
    "    def __init__(self, numpy_array):\n",
    "        if not isinstance(numpy_array, np.ndarray):\n",
    "            raise ValueError(\"Must be initialized with a Numpy array\")\n",
    "        self.value = numpy_array\n",
    "        self.nodes = list()\n",
    "        self.operation = None  # type of operation done to create this node.\n",
    "        self.node = None\n",
    "        \n",
    "    def backward(self):\n",
    "        self._compute_grads(self.nodes[-1])\n",
    "        \n",
    "    def get_grad(self):\n",
    "        return sum([n.grad for n in self.nodes])\n",
    "    \n",
    "    def _compute_grads(self, node):\n",
    "        if node.grad is None:\n",
    "            node.grad = np.full(node.tensor.value.shape, 1)\n",
    "        \n",
    "        if node.previous_nodes is None:\n",
    "            return\n",
    "        else:\n",
    "            n1, n2 = node.previous_nodes\n",
    "            \n",
    "            if node.operation == 'add':\n",
    "                n1.grad = np.copy(node.grad)\n",
    "                n2.grad = np.copy(node.grad)\n",
    "            elif node.operation == 'mul':\n",
    "                n1.grad = np.copy(node.grad) * np.copy(n2.tensor.value)\n",
    "                n2.grad = np.copy(node.grad) * np.copy(n1.tensor.value)\n",
    "            else:\n",
    "                raise ValueError(\"Invalid operation\")\n",
    "            # tensor.grad = None  # remove for saving memory\n",
    "            self._compute_grads(n1)\n",
    "            self._compute_grads(n2)\n",
    "    \n",
    "    def _add_tensor(self, other):\n",
    "        \"\"\"\n",
    "        Tensor addition (core)\n",
    "        \"\"\"\n",
    "        if isinstance(other, Tensor):\n",
    "            # check shapes\n",
    "            if not self.value.shape == other.value.shape:\n",
    "                raise ValueError(\"Tensors must have the same shape. shape1: {}, shape2: {}\".\\\n",
    "                                     format(str(self.value.shape), str(other.value.shape)))\n",
    "            operation_result = self.value + other.value\n",
    "            \n",
    "            # tensor\n",
    "            new_tensor = Tensor(operation_result)\n",
    "            new_tensor.operation = 'add'\n",
    "            \n",
    "            # node\n",
    "            if self.node is None:\n",
    "                self_node = Node(self)\n",
    "                self.node = self_node\n",
    "            else:\n",
    "                self_node = self.node\n",
    "            other_node = Node(other)\n",
    "            new_node = Node(new_tensor)\n",
    "            new_node.operation = 'add'\n",
    "            self_node.parent_node = new_node\n",
    "            other_node.parent_node = new_node\n",
    "            new_node.previous_nodes = [self_node, other_node]\n",
    "            \n",
    "            other.node = other_node\n",
    "            new_tensor.node = new_node\n",
    "            \n",
    "            \n",
    "            # couple tensor-node\n",
    "            if self_node not in self.nodes:\n",
    "                self.nodes.append(self_node)\n",
    "            else:\n",
    "                print(self.nodes)\n",
    "                raise ValueError(\"Something is wrong. (self)\")\n",
    "                \n",
    "            if other_node not in other.nodes:\n",
    "                other.nodes.append(other_node)\n",
    "            else:\n",
    "                raise ValueError(\"Something is wrong. (other)\")\n",
    "            \n",
    "            if new_node not in new_tensor.nodes:\n",
    "                new_tensor.nodes.append(new_node)\n",
    "            else:\n",
    "                raise ValueError(\"Something is wrong. (new_node)\")\n",
    "            \n",
    "            return new_tensor\n",
    "        else:\n",
    "            raise ValueError(\"Operands must be of `Tensor` type.\")\n",
    "    \n",
    "    def _mul_tensor(self, other):\n",
    "        \"\"\"\n",
    "        Tensor multiplication (core)\n",
    "        \"\"\"\n",
    "        if isinstance(other, Tensor):\n",
    "            # check shapes\n",
    "            if not self.value.shape == other.value.shape:\n",
    "                raise ValueError(\"Tensors must have the same shape. shape1: {}, shape2: {}\".\\\n",
    "                                     format(str(self.value.shape), str(other.value.shape)))\n",
    "            operation_result = self.value * other.value\n",
    "            \n",
    "            # tensor\n",
    "            new_tensor = Tensor(operation_result)\n",
    "            new_tensor.operation = 'mul'\n",
    "            \n",
    "            # node\n",
    "            if self.node is None:\n",
    "                self_node = Node(self)\n",
    "                self.node = self_node\n",
    "            else:\n",
    "                self_node = self.node\n",
    "            other_node = Node(other)\n",
    "            new_node = Node(new_tensor)\n",
    "            new_node.operation = 'mul'\n",
    "            self_node.parent_node = new_node\n",
    "            other_node.parent_node = new_node\n",
    "            new_node.previous_nodes = [self_node, other_node]\n",
    "            \n",
    "            other.node = other_node\n",
    "            new_tensor.node = new_node\n",
    "            \n",
    "            # couple tensor-node\n",
    "            if self_node not in self.nodes:\n",
    "                self.nodes.add(self_node)\n",
    "            else:\n",
    "                print(self.nodes)\n",
    "                raise ValueError(\"Something is wrong. (self)\")\n",
    "                \n",
    "            if other_node not in other.nodes:\n",
    "                other.nodes.add(other_node)\n",
    "            else:\n",
    "                raise ValueError(\"Something is wrong. (other)\")\n",
    "            \n",
    "            if new_node not in new_tensor.nodes:\n",
    "                new_tensor.nodes.add(new_node)\n",
    "            else:\n",
    "                raise ValueError(\"Something is wrong. (new_node)\")\n",
    "            \n",
    "            return new_tensor\n",
    "        else:\n",
    "            raise ValueError(\"Operands must be of `Tensor` type.\")\n",
    "            \n",
    "    def _convert_other_to_tensor(self, other):\n",
    "        \"\"\"\n",
    "        Convert 'other' to Tensor with proper shape for \n",
    "        proper operation.\n",
    "        \"\"\"\n",
    "        # convert other to Tensor\n",
    "        if isinstance(other, int) or isinstance(other, float):\n",
    "            t = Tensor(np.full(self.value.shape, other))\n",
    "        elif isinstance(other, np.ndarray):\n",
    "            other = np.broadcast_to(other, self.value.shape)\n",
    "            t = Tensor(other)\n",
    "        elif isinstance(other, Tensor):\n",
    "            t = other  # no need to do anything\n",
    "        else:\n",
    "            raise ValueError(\"Invalid type\")\n",
    "        return t\n",
    "    \n",
    "    def __add__(self, other):\n",
    "        print('add is called')\n",
    "        # convert other to tensor\n",
    "        t = self._convert_other_to_tensor(other)\n",
    "        # do tensor addition\n",
    "        return self._add_tensor(t)\n",
    "    \n",
    "    def __radd__(self, other):\n",
    "        print('radd is called')\n",
    "        return self.__add__(other)\n",
    "            \n",
    "    def __mul__(self, other):\n",
    "        # convert other to tensor\n",
    "        t = self._convert_other_to_tensor(other)\n",
    "        # do tensor multiplication\n",
    "        return self._mul_tensor(t)\n",
    "    \n",
    "    def __rmul__(self, other):\n",
    "        pass\n",
    "        \n",
    "    def __sub__(self, other):\n",
    "        # convert other to tensor\n",
    "        t = self._convert_other_to_tensor(other * (-1))\n",
    "        # do tensor addition\n",
    "        return self._add_tensor(t)\n",
    "    \n",
    "    def __str__(self):\n",
    "        r = self.value.__repr__()\n",
    "        r = r.replace('array', 'Tensor')\n",
    "        return r\n",
    "    \n",
    "    def __repr__(self):\n",
    "        r = self.value.__repr__()\n",
    "        r = r.replace('array', 'Tensor')\n",
    "        return r"
   ]
  },
  {
   "cell_type": "code",
   "execution_count": 4,
   "metadata": {},
   "outputs": [],
   "source": [
    "arr1 = np.random.rand(2, 3)\n",
    "# arr2 = np.random.rand(2, 3)"
   ]
  },
  {
   "cell_type": "code",
   "execution_count": 5,
   "metadata": {},
   "outputs": [
    {
     "name": "stdout",
     "output_type": "stream",
     "text": [
      "t1: Tensor([[0.23997036, 0.26714305, 0.26883173],\n",
      "       [0.41876565, 0.01369344, 0.78602728]])\n"
     ]
    }
   ],
   "source": [
    "t1 = Tensor(arr1)\n",
    "# t2 = Tensor(arr2)\n",
    "print('t1:', t1)\n",
    "# print('t2:', t2)"
   ]
  },
  {
   "cell_type": "code",
   "execution_count": 6,
   "metadata": {},
   "outputs": [
    {
     "name": "stdout",
     "output_type": "stream",
     "text": [
      "add is called\n",
      "add is called\n",
      "[Node: d16654ea-9c72-4d7d-9722-fe787fb89f66]\n"
     ]
    },
    {
     "ename": "ValueError",
     "evalue": "Something is wrong. (self)",
     "output_type": "error",
     "traceback": [
      "\u001b[0;31m---------------------------------------------------------------------------\u001b[0m",
      "\u001b[0;31mValueError\u001b[0m                                Traceback (most recent call last)",
      "\u001b[0;32m<ipython-input-6-a4062cadcef6>\u001b[0m in \u001b[0;36m<module>\u001b[0;34m\u001b[0m\n\u001b[0;32m----> 1\u001b[0;31m \u001b[0mt5\u001b[0m \u001b[0;34m=\u001b[0m \u001b[0mt1\u001b[0m \u001b[0;34m+\u001b[0m \u001b[0mt1\u001b[0m \u001b[0;34m+\u001b[0m \u001b[0;36m2\u001b[0m\u001b[0;34m\u001b[0m\u001b[0m\n\u001b[0m",
      "\u001b[0;32m<ipython-input-3-5348c8857adb>\u001b[0m in \u001b[0;36m__add__\u001b[0;34m(self, other)\u001b[0m\n\u001b[1;32m    165\u001b[0m         \u001b[0mt\u001b[0m \u001b[0;34m=\u001b[0m \u001b[0mself\u001b[0m\u001b[0;34m.\u001b[0m\u001b[0m_convert_other_to_tensor\u001b[0m\u001b[0;34m(\u001b[0m\u001b[0mother\u001b[0m\u001b[0;34m)\u001b[0m\u001b[0;34m\u001b[0m\u001b[0m\n\u001b[1;32m    166\u001b[0m         \u001b[0;31m# do tensor addition\u001b[0m\u001b[0;34m\u001b[0m\u001b[0;34m\u001b[0m\u001b[0m\n\u001b[0;32m--> 167\u001b[0;31m         \u001b[0;32mreturn\u001b[0m \u001b[0mself\u001b[0m\u001b[0;34m.\u001b[0m\u001b[0m_add_tensor\u001b[0m\u001b[0;34m(\u001b[0m\u001b[0mt\u001b[0m\u001b[0;34m)\u001b[0m\u001b[0;34m\u001b[0m\u001b[0m\n\u001b[0m\u001b[1;32m    168\u001b[0m \u001b[0;34m\u001b[0m\u001b[0m\n\u001b[1;32m    169\u001b[0m     \u001b[0;32mdef\u001b[0m \u001b[0m__radd__\u001b[0m\u001b[0;34m(\u001b[0m\u001b[0mself\u001b[0m\u001b[0;34m,\u001b[0m \u001b[0mother\u001b[0m\u001b[0;34m)\u001b[0m\u001b[0;34m:\u001b[0m\u001b[0;34m\u001b[0m\u001b[0m\n",
      "\u001b[0;32m<ipython-input-3-5348c8857adb>\u001b[0m in \u001b[0;36m_add_tensor\u001b[0;34m(self, other)\u001b[0m\n\u001b[1;32m     75\u001b[0m             \u001b[0;32melse\u001b[0m\u001b[0;34m:\u001b[0m\u001b[0;34m\u001b[0m\u001b[0m\n\u001b[1;32m     76\u001b[0m                 \u001b[0mprint\u001b[0m\u001b[0;34m(\u001b[0m\u001b[0mself\u001b[0m\u001b[0;34m.\u001b[0m\u001b[0mnodes\u001b[0m\u001b[0;34m)\u001b[0m\u001b[0;34m\u001b[0m\u001b[0m\n\u001b[0;32m---> 77\u001b[0;31m                 \u001b[0;32mraise\u001b[0m \u001b[0mValueError\u001b[0m\u001b[0;34m(\u001b[0m\u001b[0;34m\"Something is wrong. (self)\"\u001b[0m\u001b[0;34m)\u001b[0m\u001b[0;34m\u001b[0m\u001b[0m\n\u001b[0m\u001b[1;32m     78\u001b[0m \u001b[0;34m\u001b[0m\u001b[0m\n\u001b[1;32m     79\u001b[0m             \u001b[0;32mif\u001b[0m \u001b[0mother_node\u001b[0m \u001b[0;32mnot\u001b[0m \u001b[0;32min\u001b[0m \u001b[0mother\u001b[0m\u001b[0;34m.\u001b[0m\u001b[0mnodes\u001b[0m\u001b[0;34m:\u001b[0m\u001b[0;34m\u001b[0m\u001b[0m\n",
      "\u001b[0;31mValueError\u001b[0m: Something is wrong. (self)"
     ]
    }
   ],
   "source": [
    "t5 = t1 + t1 + 2"
   ]
  },
  {
   "cell_type": "code",
   "execution_count": 7,
   "metadata": {},
   "outputs": [
    {
     "data": {
      "text/plain": [
       "[Node: 29b58adc-10e8-45f0-8b9d-efd2de53a26b]"
      ]
     },
     "execution_count": 7,
     "metadata": {},
     "output_type": "execute_result"
    }
   ],
   "source": [
    "t5.nodes"
   ]
  },
  {
   "cell_type": "code",
   "execution_count": 8,
   "metadata": {},
   "outputs": [
    {
     "data": {
      "text/plain": [
       "[Node: b75196f0-c1c4-4a58-be71-82da94af0fb3,\n",
       " Node: fcb6033e-2c36-484c-b8cc-e2e3e9eafdc5]"
      ]
     },
     "execution_count": 8,
     "metadata": {},
     "output_type": "execute_result"
    }
   ],
   "source": [
    "t1.nodes"
   ]
  },
  {
   "cell_type": "code",
   "execution_count": null,
   "metadata": {},
   "outputs": [],
   "source": []
  },
  {
   "cell_type": "code",
   "execution_count": null,
   "metadata": {},
   "outputs": [],
   "source": []
  },
  {
   "cell_type": "code",
   "execution_count": null,
   "metadata": {},
   "outputs": [],
   "source": []
  },
  {
   "cell_type": "code",
   "execution_count": 10,
   "metadata": {},
   "outputs": [],
   "source": [
    "t5.nodes[0].previous_nodes[0].previous_nodes"
   ]
  },
  {
   "cell_type": "code",
   "execution_count": null,
   "metadata": {},
   "outputs": [],
   "source": []
  },
  {
   "cell_type": "code",
   "execution_count": null,
   "metadata": {},
   "outputs": [],
   "source": []
  },
  {
   "cell_type": "code",
   "execution_count": 8,
   "metadata": {},
   "outputs": [],
   "source": [
    "t5.backward()"
   ]
  },
  {
   "cell_type": "code",
   "execution_count": 9,
   "metadata": {},
   "outputs": [
    {
     "data": {
      "text/plain": [
       "[Node: 04c124c5-b5fe-4659-9288-cde2d33bec6a,\n",
       " Node: a9ed190b-23fa-4639-8ada-cc69343f5802,\n",
       " Node: 633630fe-879c-4032-956f-0a255fe08758]"
      ]
     },
     "execution_count": 9,
     "metadata": {},
     "output_type": "execute_result"
    }
   ],
   "source": [
    "t1.nodes"
   ]
  },
  {
   "cell_type": "code",
   "execution_count": 10,
   "metadata": {},
   "outputs": [],
   "source": [
    "t1.nodes[2].previous_nodes"
   ]
  },
  {
   "cell_type": "code",
   "execution_count": 11,
   "metadata": {},
   "outputs": [],
   "source": [
    "t5.nodes[0].previous_nodes[0].previous_nodes"
   ]
  },
  {
   "cell_type": "code",
   "execution_count": null,
   "metadata": {},
   "outputs": [],
   "source": []
  },
  {
   "cell_type": "code",
   "execution_count": null,
   "metadata": {},
   "outputs": [],
   "source": []
  },
  {
   "cell_type": "code",
   "execution_count": 24,
   "metadata": {},
   "outputs": [
    {
     "data": {
      "text/plain": [
       "[None, None, array([[1, 1, 1],\n",
       "        [1, 1, 1]])]"
      ]
     },
     "execution_count": 24,
     "metadata": {},
     "output_type": "execute_result"
    }
   ],
   "source": [
    "[n.grad for n in t1.nodes]"
   ]
  },
  {
   "cell_type": "code",
   "execution_count": 25,
   "metadata": {},
   "outputs": [
    {
     "data": {
      "text/plain": [
       "[Node: bee201f0-f8ac-4a79-987c-2870f4fbf992,\n",
       " Node: cc559bc2-5449-4e2b-9432-cc661cff3f53,\n",
       " Node: db6908c4-35be-44e7-8f71-ec569acfbff9]"
      ]
     },
     "execution_count": 25,
     "metadata": {},
     "output_type": "execute_result"
    }
   ],
   "source": [
    "[n for n in t1.nodes]"
   ]
  },
  {
   "cell_type": "code",
   "execution_count": null,
   "metadata": {},
   "outputs": [],
   "source": []
  },
  {
   "cell_type": "code",
   "execution_count": 10,
   "metadata": {},
   "outputs": [
    {
     "data": {
      "text/plain": [
       "[Node: 36e81509-e986-46a2-bc94-4018b688353f,\n",
       " Node: c54c01a1-599c-43de-bf29-4fc489da0b95,\n",
       " Node: 487a8c07-71a4-405a-9fe3-b63d33456e28]"
      ]
     },
     "execution_count": 10,
     "metadata": {},
     "output_type": "execute_result"
    }
   ],
   "source": [
    "t1.nodes"
   ]
  },
  {
   "cell_type": "code",
   "execution_count": null,
   "metadata": {},
   "outputs": [],
   "source": []
  },
  {
   "cell_type": "code",
   "execution_count": 8,
   "metadata": {},
   "outputs": [
    {
     "data": {
      "text/plain": [
       "[None, None, array([[1, 1, 1],\n",
       "        [1, 1, 1]])]"
      ]
     },
     "execution_count": 8,
     "metadata": {},
     "output_type": "execute_result"
    }
   ],
   "source": [
    "[n.grad for n in t1.nodes]"
   ]
  },
  {
   "cell_type": "code",
   "execution_count": 12,
   "metadata": {},
   "outputs": [
    {
     "data": {
      "text/plain": [
       "[None, None, None]"
      ]
     },
     "execution_count": 12,
     "metadata": {},
     "output_type": "execute_result"
    }
   ],
   "source": [
    "[n.operation for n in t1.nodes]"
   ]
  },
  {
   "cell_type": "code",
   "execution_count": 10,
   "metadata": {},
   "outputs": [
    {
     "data": {
      "text/plain": [
       "[Node: a17fbe70-f02f-497d-b20a-dc9ea9690a5b,\n",
       " Node: caf038f8-b6b8-473d-87b4-57799f93b1e8,\n",
       " Node: 13ff6616-f09e-4583-97cc-edc58c5187b5]"
      ]
     },
     "execution_count": 10,
     "metadata": {},
     "output_type": "execute_result"
    }
   ],
   "source": [
    "t1.nodes"
   ]
  },
  {
   "cell_type": "code",
   "execution_count": 19,
   "metadata": {},
   "outputs": [],
   "source": [
    "t5.nodes[0].previous_nodes[1].operation"
   ]
  },
  {
   "cell_type": "code",
   "execution_count": null,
   "metadata": {},
   "outputs": [],
   "source": []
  },
  {
   "cell_type": "code",
   "execution_count": 5,
   "metadata": {},
   "outputs": [],
   "source": [
    "t10 = (t1 - 2) * (t1 - 2)"
   ]
  },
  {
   "cell_type": "code",
   "execution_count": 6,
   "metadata": {},
   "outputs": [],
   "source": [
    "t10.backward()"
   ]
  },
  {
   "cell_type": "code",
   "execution_count": 7,
   "metadata": {},
   "outputs": [
    {
     "data": {
      "text/plain": [
       "array([[-2.99519256, -3.70566587, -3.57598042],\n",
       "       [-2.62173808, -2.41002425, -2.09688913]])"
      ]
     },
     "execution_count": 7,
     "metadata": {},
     "output_type": "execute_result"
    }
   ],
   "source": [
    "t1.grad"
   ]
  },
  {
   "cell_type": "code",
   "execution_count": 11,
   "metadata": {},
   "outputs": [
    {
     "data": {
      "text/plain": [
       "Tensor([[-1.49759628, -1.85283293, -1.78799021],\n",
       "       [-1.31086904, -1.20501212, -1.04844457]])"
      ]
     },
     "execution_count": 11,
     "metadata": {},
     "output_type": "execute_result"
    }
   ],
   "source": [
    "(2 * t1) - 4"
   ]
  },
  {
   "cell_type": "code",
   "execution_count": 14,
   "metadata": {},
   "outputs": [
    {
     "data": {
      "text/plain": [
       "Tensor([[2.50240372, 2.14716707, 2.21200979],\n",
       "       [2.68913096, 2.79498788, 2.95155543]])"
      ]
     },
     "execution_count": 14,
     "metadata": {},
     "output_type": "execute_result"
    }
   ],
   "source": [
    "t1 + 2"
   ]
  },
  {
   "cell_type": "code",
   "execution_count": null,
   "metadata": {},
   "outputs": [],
   "source": []
  },
  {
   "cell_type": "code",
   "execution_count": 47,
   "metadata": {},
   "outputs": [
    {
     "ename": "TypeError",
     "evalue": "unsupported operand type(s) for /: 'Tensor' and 'Tensor'",
     "output_type": "error",
     "traceback": [
      "\u001b[0;31m---------------------------------------------------------------------------\u001b[0m",
      "\u001b[0;31mTypeError\u001b[0m                                 Traceback (most recent call last)",
      "\u001b[0;32m<ipython-input-47-1cbdcb4558a2>\u001b[0m in \u001b[0;36m<module>\u001b[0;34m\u001b[0m\n\u001b[0;32m----> 1\u001b[0;31m \u001b[0mt10\u001b[0m \u001b[0;34m=\u001b[0m \u001b[0;34m(\u001b[0m\u001b[0mt1\u001b[0m \u001b[0;34m+\u001b[0m \u001b[0;36m2\u001b[0m\u001b[0;34m)\u001b[0m \u001b[0;34m/\u001b[0m \u001b[0;34m(\u001b[0m\u001b[0mt1\u001b[0m \u001b[0;34m+\u001b[0m \u001b[0;36m2\u001b[0m\u001b[0;34m)\u001b[0m\u001b[0;34m\u001b[0m\u001b[0m\n\u001b[0m",
      "\u001b[0;31mTypeError\u001b[0m: unsupported operand type(s) for /: 'Tensor' and 'Tensor'"
     ]
    }
   ],
   "source": [
    "t10 = (t1 + 2) / (t1 + 2)"
   ]
  },
  {
   "cell_type": "code",
   "execution_count": 44,
   "metadata": {},
   "outputs": [],
   "source": [
    "t10.backward()"
   ]
  },
  {
   "cell_type": "code",
   "execution_count": 45,
   "metadata": {},
   "outputs": [
    {
     "data": {
      "text/plain": [
       "array([[5.52619492, 4.71267724, 5.95470321],\n",
       "       [4.45144276, 4.1928202 , 5.00457934]])"
      ]
     },
     "execution_count": 45,
     "metadata": {},
     "output_type": "execute_result"
    }
   ],
   "source": [
    "t1.grad"
   ]
  },
  {
   "cell_type": "code",
   "execution_count": 46,
   "metadata": {},
   "outputs": [
    {
     "data": {
      "text/plain": [
       "array([[5.52619492, 4.71267724, 5.95470321],\n",
       "       [4.45144276, 4.1928202 , 5.00457934]])"
      ]
     },
     "execution_count": 46,
     "metadata": {},
     "output_type": "execute_result"
    }
   ],
   "source": [
    "2 * arr1 + 4"
   ]
  },
  {
   "cell_type": "code",
   "execution_count": null,
   "metadata": {},
   "outputs": [],
   "source": []
  },
  {
   "cell_type": "code",
   "execution_count": 6,
   "metadata": {},
   "outputs": [
    {
     "ename": "NameError",
     "evalue": "name 't20' is not defined",
     "output_type": "error",
     "traceback": [
      "\u001b[0;31m---------------------------------------------------------------------------\u001b[0m",
      "\u001b[0;31mNameError\u001b[0m                                 Traceback (most recent call last)",
      "\u001b[0;32m<ipython-input-6-f70fb7ca7b5c>\u001b[0m in \u001b[0;36m<module>\u001b[0;34m\u001b[0m\n\u001b[0;32m----> 1\u001b[0;31m \u001b[0mt20\u001b[0m\u001b[0;34m.\u001b[0m\u001b[0mbackward\u001b[0m\u001b[0;34m(\u001b[0m\u001b[0;34m)\u001b[0m\u001b[0;34m\u001b[0m\u001b[0m\n\u001b[0m",
      "\u001b[0;31mNameError\u001b[0m: name 't20' is not defined"
     ]
    }
   ],
   "source": [
    "t20.backward()"
   ]
  },
  {
   "cell_type": "code",
   "execution_count": null,
   "metadata": {},
   "outputs": [],
   "source": [
    "t1.grad"
   ]
  },
  {
   "cell_type": "code",
   "execution_count": 6,
   "metadata": {},
   "outputs": [],
   "source": [
    "import torch"
   ]
  },
  {
   "cell_type": "code",
   "execution_count": 7,
   "metadata": {},
   "outputs": [
    {
     "data": {
      "text/plain": [
       "tensor([[0.8264, 0.3591, 0.8097],\n",
       "        [0.5179, 0.3105, 0.6348]])"
      ]
     },
     "execution_count": 7,
     "metadata": {},
     "output_type": "execute_result"
    }
   ],
   "source": [
    "t = torch.rand(2, 3)\n",
    "t"
   ]
  },
  {
   "cell_type": "code",
   "execution_count": 9,
   "metadata": {},
   "outputs": [],
   "source": [
    "a = 'txt_another'"
   ]
  },
  {
   "cell_type": "code",
   "execution_count": 11,
   "metadata": {},
   "outputs": [
    {
     "data": {
      "text/plain": [
       "'some_another'"
      ]
     },
     "execution_count": 11,
     "metadata": {},
     "output_type": "execute_result"
    }
   ],
   "source": [
    "a.replace('txt', 'some')"
   ]
  },
  {
   "cell_type": "code",
   "execution_count": null,
   "metadata": {},
   "outputs": [],
   "source": []
  },
  {
   "cell_type": "code",
   "execution_count": null,
   "metadata": {},
   "outputs": [],
   "source": []
  }
 ],
 "metadata": {
  "kernelspec": {
   "display_name": "Python 3",
   "language": "python",
   "name": "python3"
  },
  "language_info": {
   "codemirror_mode": {
    "name": "ipython",
    "version": 3
   },
   "file_extension": ".py",
   "mimetype": "text/x-python",
   "name": "python",
   "nbconvert_exporter": "python",
   "pygments_lexer": "ipython3",
   "version": "3.6.5"
  }
 },
 "nbformat": 4,
 "nbformat_minor": 2
}
