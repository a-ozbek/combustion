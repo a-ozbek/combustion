{
 "cells": [
  {
   "cell_type": "code",
   "execution_count": 1,
   "metadata": {},
   "outputs": [],
   "source": [
    "import numpy as np"
   ]
  },
  {
   "cell_type": "code",
   "execution_count": 2,
   "metadata": {},
   "outputs": [],
   "source": [
    "class Tensor:\n",
    "    \"\"\"\n",
    "    Tensor\n",
    "    \"\"\"\n",
    "    def __init__(self, numpy_array):\n",
    "        if not isinstance(numpy_array, np.ndarray):\n",
    "            raise ValueError(\"The class must be initialized with a Numpy array\")\n",
    "        self.value = numpy_array\n",
    "        self.previous_tensors = None\n",
    "        self.operation = None  # type of operation done to create this tensor.\n",
    "        self.grad = np.full(self.value.shape, 1)\n",
    "        \n",
    "    def backward(self):\n",
    "        self.compute_grads(self)\n",
    "    \n",
    "    def compute_grads(self, tensor):\n",
    "        if tensor.previous_tensors is None:\n",
    "            print('stopped')\n",
    "            print('tensor:', tensor)\n",
    "            return np.full(tensor.value.shape, 1)\n",
    "        else:\n",
    "            print('r')\n",
    "            t1, t2 = tensor.previous_tensors\n",
    "            t1_computed = self.compute_grads(t1)\n",
    "            t2_computed = self.compute_grads(t2)\n",
    "            print('t1:', str(t1))\n",
    "            print('t2:', str(t2))\n",
    "            if t1_computed is None or t2_computed is None:\n",
    "                return\n",
    "            if tensor.operation == 'add':\n",
    "                print('r add')\n",
    "                \n",
    "                print('t1_computed:', str(t1_computed))\n",
    "                print('t2_computed:', str(t2_computed))\n",
    "                print('tensor.grad:', str(tensor.grad))\n",
    "                t1.grad = t1_computed * tensor.grad\n",
    "                t2.grad = t2_computed * tensor.grad\n",
    "            elif tensor.operation == 'mul':\n",
    "                print('r mull')\n",
    "                t1.grad = t1_computed * tensor.grad * t2.value\n",
    "                t2.grad = t2_computed * tensor.grad * t1.value\n",
    "            else:\n",
    "                raise ValueError(\"Invalid operation\")\n",
    "    \n",
    "            \n",
    "    def __add__(self, other):\n",
    "        if isinstance(other, Tensor):\n",
    "            # check shapes\n",
    "            if not self.value.shape == other.value.shape:\n",
    "                raise ValueError(\"Tensors must have the same shape. shape1: {}, shape2: {}\".\\\n",
    "                                     format(str(self.value.shape), str(other.value.shape)))\n",
    "            operation_result = self.value + other.value\n",
    "            new_tensor = Tensor(operation_result)\n",
    "            new_tensor.operation = 'add'\n",
    "            new_tensor.previous_tensors = [self, other]\n",
    "            return new_tensor\n",
    "        else:\n",
    "            raise ValueError(\"Operands must be of `Tensor` type.\")\n",
    "            \n",
    "    \n",
    "    def __mul__(self, other):\n",
    "        if isinstance(other, Tensor):\n",
    "            # check shapes\n",
    "            if not self.value.shape == other.value.shape:\n",
    "                raise ValueError(\"Tensors must have the same shape. shape1: {}, shape2: {}\".\\\n",
    "                                     format(str(self.value.shape), str(other.value.shape)))\n",
    "            operation_result = self.value * other.value\n",
    "            new_tensor = Tensor(operation_result)\n",
    "            new_tensor.operation = 'mul'\n",
    "            new_tensor.previous_tensors = [self, other]\n",
    "            print('mul operation happened')\n",
    "            return new_tensor\n",
    "        else:\n",
    "            raise ValueError(\"Operands must be of `Tensor` type.\")\n",
    "            \n",
    "            \n",
    "    \n",
    "        \n",
    "#     def __radd__(self, other):\n",
    "#         return self.__add__(other)\n",
    "    \n",
    "#     def __sub__(self, other):\n",
    "#         if isinstance(other, Tensor):\n",
    "#             # check shapes\n",
    "#             if not self.value.shape == other.value.shape:\n",
    "#                 raise ValueError(\"Tensors must have the same shape. shape1: {}, shape2: {}\".\\\n",
    "#                                      format(str(self.value.shape), str(other.value.shape)))\n",
    "#             operation_result = self.value - other.value\n",
    "#             new_tensor = Tensor(operation_result)\n",
    "#             new_tensor.operation = 'sub'\n",
    "#             new_tensor.previous_tensors = [self, other]\n",
    "#             return new_tensor\n",
    "#         else:\n",
    "#             raise ValueError(\"Operands must be of `Tensor` type.\")\n",
    "        \n",
    "#     def __rsub__(self, other):\n",
    "#         self.operation = ('rsub', other)\n",
    "#         operation_result = other - self.value\n",
    "#         new_tensor = Tensor(numpy_array=operation_result)\n",
    "#         new_tensor.previous_tensor = self\n",
    "#         return new_tensor\n",
    "    \n",
    "#     def __mul__(self, other):\n",
    "#         self.operation = ('mul', other)\n",
    "#         operation_result = self.value * other\n",
    "#         new_tensor = Tensor(numpy_array=operation_result)\n",
    "#         new_tensor.previous_tensor = self\n",
    "#         return new_tensor\n",
    "    \n",
    "#     def mean(self):\n",
    "#         self.operation = ('mean', None)\n",
    "#         operation_result = self.value.mean()\n",
    "#         new_tensor = Tensor(numpy_array=operation_result)\n",
    "#         new_tensor.previous_tensor = self\n",
    "#         return new_tensor\n",
    "    \n",
    "    def __str__(self):\n",
    "        return self.value.__repr__()"
   ]
  },
  {
   "cell_type": "code",
   "execution_count": 3,
   "metadata": {},
   "outputs": [],
   "source": [
    "arr1 = np.random.rand(2, 3)\n",
    "arr2 = np.random.rand(2, 3)"
   ]
  },
  {
   "cell_type": "code",
   "execution_count": 4,
   "metadata": {},
   "outputs": [
    {
     "name": "stdout",
     "output_type": "stream",
     "text": [
      "t1: array([[0.77271875, 0.18558432, 0.05228952],\n",
      "       [0.27405898, 0.04162223, 0.31762458]])\n",
      "t2: array([[0.7557516 , 0.64530115, 0.21485457],\n",
      "       [0.75593937, 0.87029242, 0.32760897]])\n"
     ]
    }
   ],
   "source": [
    "t1 = Tensor(arr1)\n",
    "t2 = Tensor(arr2)\n",
    "print('t1:', t1)\n",
    "print('t2:', t2)"
   ]
  },
  {
   "cell_type": "code",
   "execution_count": 5,
   "metadata": {},
   "outputs": [
    {
     "name": "stdout",
     "output_type": "stream",
     "text": [
      "mul operation happened\n",
      "array([[2.30118911, 1.01646979, 0.31943361],\n",
      "       [1.30405733, 0.95353688, 0.96285812]])\n"
     ]
    }
   ],
   "source": [
    "t3 = t1 * Tensor(np.full(t1.value.shape, 2)) + t2  # * Tensor(np.full(t1.value.shape, 2))\n",
    "print(t3)"
   ]
  },
  {
   "cell_type": "code",
   "execution_count": 6,
   "metadata": {
    "scrolled": true
   },
   "outputs": [
    {
     "name": "stdout",
     "output_type": "stream",
     "text": [
      "r\n",
      "r\n",
      "stopped\n",
      "tensor: array([[0.77271875, 0.18558432, 0.05228952],\n",
      "       [0.27405898, 0.04162223, 0.31762458]])\n",
      "stopped\n",
      "tensor: array([[2, 2, 2],\n",
      "       [2, 2, 2]])\n",
      "t1: array([[0.77271875, 0.18558432, 0.05228952],\n",
      "       [0.27405898, 0.04162223, 0.31762458]])\n",
      "t2: array([[2, 2, 2],\n",
      "       [2, 2, 2]])\n",
      "r mull\n",
      "stopped\n",
      "tensor: array([[0.7557516 , 0.64530115, 0.21485457],\n",
      "       [0.75593937, 0.87029242, 0.32760897]])\n",
      "t1: array([[1.54543751, 0.37116864, 0.10457904],\n",
      "       [0.54811796, 0.08324445, 0.63524915]])\n",
      "t2: array([[0.7557516 , 0.64530115, 0.21485457],\n",
      "       [0.75593937, 0.87029242, 0.32760897]])\n"
     ]
    }
   ],
   "source": [
    "t3.backward()"
   ]
  },
  {
   "cell_type": "code",
   "execution_count": null,
   "metadata": {},
   "outputs": [],
   "source": []
  },
  {
   "cell_type": "code",
   "execution_count": null,
   "metadata": {},
   "outputs": [],
   "source": []
  },
  {
   "cell_type": "code",
   "execution_count": null,
   "metadata": {},
   "outputs": [],
   "source": []
  },
  {
   "cell_type": "code",
   "execution_count": null,
   "metadata": {},
   "outputs": [],
   "source": []
  }
 ],
 "metadata": {
  "kernelspec": {
   "display_name": "Python 3",
   "language": "python",
   "name": "python3"
  },
  "language_info": {
   "codemirror_mode": {
    "name": "ipython",
    "version": 3
   },
   "file_extension": ".py",
   "mimetype": "text/x-python",
   "name": "python",
   "nbconvert_exporter": "python",
   "pygments_lexer": "ipython3",
   "version": "3.6.5"
  }
 },
 "nbformat": 4,
 "nbformat_minor": 2
}
