{
 "cells": [
  {
   "cell_type": "code",
   "execution_count": 1,
   "metadata": {},
   "outputs": [],
   "source": [
    "import numpy as np"
   ]
  },
  {
   "cell_type": "code",
   "execution_count": 2,
   "metadata": {},
   "outputs": [],
   "source": [
    "class Tensor:\n",
    "    \"\"\"\n",
    "    Tensor\n",
    "    \"\"\"\n",
    "    def __init__(self, numpy_array):\n",
    "        if not isinstance(numpy_array, np.ndarray):\n",
    "            raise ValueError(\"The class must be initialized with a Numpy array\")\n",
    "        self.value = numpy_array\n",
    "        self.previous_tensors = None\n",
    "        self.operation = None  # type of operation done to create this tensor.\n",
    "        self.grad = np.full(self.value.shape, 1)\n",
    "        \n",
    "    def backward(self):\n",
    "        self._compute_grads(self)\n",
    "    \n",
    "    def _compute_grads(self, tensor):\n",
    "        if tensor.previous_tensors is None:\n",
    "            print('stopped')\n",
    "#             print('tensor:', tensor)\n",
    "            return\n",
    "        else:\n",
    "            t1, t2 = tensor.previous_tensors\n",
    "#             print('t1_computed:', str(t1_computed))\n",
    "#             print('t2_computed:', str(t2_computed))\n",
    "#             print('t1:', str(t1))\n",
    "#             print('t2:', str(t2))\n",
    "#             print('tensor.grad:', str(tensor.grad))\n",
    "#             if t1_computed is None or t2_computed is None:\n",
    "#                 return\n",
    "            if tensor.operation == 'add':\n",
    "                print('r add')\n",
    "                t1.grad = tensor.grad\n",
    "                t2.grad = tensor.grad\n",
    "            elif tensor.operation == 'mul':\n",
    "                print('***1')\n",
    "                print('r mull')\n",
    "                print('t1.value:', t1.value)\n",
    "                print('t2.value:', t2.value)\n",
    "                print('tensor.value', tensor.value)\n",
    "                print('tensor.grad:', tensor.grad)\n",
    "                t1.grad = tensor.grad * t2.value # * t1.grad\n",
    "                t2.grad = tensor.grad * t1.value # * t2.grad\n",
    "                print('t1.grad:', t1.grad)\n",
    "                print('t2.grad:', t2.grad)\n",
    "                print('***2')\n",
    "            else:\n",
    "                raise ValueError(\"Invalid operation\")\n",
    "            tensor.grad = None  # remove for saving memory\n",
    "            self._compute_grads(t1)\n",
    "            self._compute_grads(t2)\n",
    "    \n",
    "            \n",
    "    def __add__(self, other):\n",
    "        if isinstance(other, Tensor):\n",
    "            # check shapes\n",
    "            if not self.value.shape == other.value.shape:\n",
    "                raise ValueError(\"Tensors must have the same shape. shape1: {}, shape2: {}\".\\\n",
    "                                     format(str(self.value.shape), str(other.value.shape)))\n",
    "            operation_result = self.value + other.value\n",
    "            new_tensor = Tensor(operation_result)\n",
    "            new_tensor.operation = 'add'\n",
    "            new_tensor.previous_tensors = [self, other]\n",
    "            print('add operation happened')\n",
    "            return new_tensor\n",
    "        else:\n",
    "            raise ValueError(\"Operands must be of `Tensor` type.\")\n",
    "            \n",
    "    \n",
    "    def __mul__(self, other):\n",
    "        if isinstance(other, Tensor):\n",
    "            # check shapes\n",
    "            if not self.value.shape == other.value.shape:\n",
    "                raise ValueError(\"Tensors must have the same shape. shape1: {}, shape2: {}\".\\\n",
    "                                     format(str(self.value.shape), str(other.value.shape)))\n",
    "            operation_result = self.value * other.value\n",
    "            new_tensor = Tensor(operation_result)\n",
    "            new_tensor.operation = 'mul'\n",
    "            new_tensor.previous_tensors = [self, other]\n",
    "            print('mul operation happened')\n",
    "            return new_tensor\n",
    "        else:\n",
    "            raise ValueError(\"Operands must be of `Tensor` type.\")\n",
    "    \n",
    "    def __str__(self):\n",
    "        return self.value.__repr__()"
   ]
  },
  {
   "cell_type": "code",
   "execution_count": 3,
   "metadata": {},
   "outputs": [],
   "source": [
    "arr1 = np.random.rand(2, 3)\n",
    "arr2 = np.random.rand(2, 3)"
   ]
  },
  {
   "cell_type": "code",
   "execution_count": 4,
   "metadata": {},
   "outputs": [
    {
     "name": "stdout",
     "output_type": "stream",
     "text": [
      "t1: array([[0.72513608, 0.43521203, 0.79568601],\n",
      "       [0.44408007, 0.88073825, 0.48013565]])\n",
      "t2: array([[0.92854234, 0.37359521, 0.05403239],\n",
      "       [0.30128   , 0.60212432, 0.92970222]])\n"
     ]
    }
   ],
   "source": [
    "t1 = Tensor(arr1)\n",
    "t2 = Tensor(arr2)\n",
    "print('t1:', t1)\n",
    "print('t2:', t2)"
   ]
  },
  {
   "cell_type": "code",
   "execution_count": 5,
   "metadata": {},
   "outputs": [
    {
     "name": "stdout",
     "output_type": "stream",
     "text": [
      "mul operation happened\n",
      "mul operation happened\n",
      "mul operation happened\n",
      "add operation happened\n",
      "add operation happened\n",
      "mul operation happened\n"
     ]
    }
   ],
   "source": [
    "t3 = t1 * Tensor(np.full(arr1.shape, 5)) * Tensor(np.full(arr1.shape, 5)) + t2 * Tensor(np.full(arr1.shape, 3))\n",
    "t4 = (t3 + Tensor(np.full(arr1.shape, 2))) * Tensor(np.full(arr1.shape, 7))"
   ]
  },
  {
   "cell_type": "code",
   "execution_count": 6,
   "metadata": {
    "scrolled": true
   },
   "outputs": [
    {
     "name": "stdout",
     "output_type": "stream",
     "text": [
      "***1\n",
      "r mull\n",
      "t1.value: [[22.91402912 14.00108647 22.05424729]\n",
      " [14.00584174 25.82482927 16.79249792]]\n",
      "t2.value: [[7 7 7]\n",
      " [7 7 7]]\n",
      "tensor.value [[160.39820381  98.00760528 154.37973104]\n",
      " [ 98.0408922  180.77380487 117.54748546]]\n",
      "tensor.grad: [[1 1 1]\n",
      " [1 1 1]]\n",
      "t1.grad: [[7 7 7]\n",
      " [7 7 7]]\n",
      "t2.grad: [[22.91402912 14.00108647 22.05424729]\n",
      " [14.00584174 25.82482927 16.79249792]]\n",
      "***2\n",
      "r add\n",
      "r add\n",
      "***1\n",
      "r mull\n",
      "t1.value: [[3.62568042 2.17606017 3.97843003]\n",
      " [2.22040035 4.40369126 2.40067825]]\n",
      "t2.value: [[5 5 5]\n",
      " [5 5 5]]\n",
      "tensor.value [[18.12840209 10.88030084 19.89215013]\n",
      " [11.10200176 22.01845631 12.00339125]]\n",
      "tensor.grad: [[7 7 7]\n",
      " [7 7 7]]\n",
      "t1.grad: [[35 35 35]\n",
      " [35 35 35]]\n",
      "t2.grad: [[25.37976293 15.23242118 27.84901019]\n",
      " [15.54280246 30.82583883 16.80474775]]\n",
      "***2\n",
      "***1\n",
      "r mull\n",
      "t1.value: [[0.72513608 0.43521203 0.79568601]\n",
      " [0.44408007 0.88073825 0.48013565]]\n",
      "t2.value: [[5 5 5]\n",
      " [5 5 5]]\n",
      "tensor.value [[3.62568042 2.17606017 3.97843003]\n",
      " [2.22040035 4.40369126 2.40067825]]\n",
      "tensor.grad: [[35 35 35]\n",
      " [35 35 35]]\n",
      "t1.grad: [[175 175 175]\n",
      " [175 175 175]]\n",
      "t2.grad: [[25.37976293 15.23242118 27.84901019]\n",
      " [15.54280246 30.82583883 16.80474775]]\n",
      "***2\n",
      "stopped\n",
      "stopped\n",
      "stopped\n",
      "***1\n",
      "r mull\n",
      "t1.value: [[0.92854234 0.37359521 0.05403239]\n",
      " [0.30128    0.60212432 0.92970222]]\n",
      "t2.value: [[3 3 3]\n",
      " [3 3 3]]\n",
      "tensor.value [[2.78562703 1.12078563 0.16209716]\n",
      " [0.90383999 1.80637296 2.78910667]]\n",
      "tensor.grad: [[7 7 7]\n",
      " [7 7 7]]\n",
      "t1.grad: [[21 21 21]\n",
      " [21 21 21]]\n",
      "t2.grad: [[6.4997964  2.61516646 0.3782267 ]\n",
      " [2.10895997 4.21487024 6.50791557]]\n",
      "***2\n",
      "stopped\n",
      "stopped\n",
      "stopped\n",
      "stopped\n"
     ]
    }
   ],
   "source": [
    "t4.backward()"
   ]
  },
  {
   "cell_type": "code",
   "execution_count": 7,
   "metadata": {},
   "outputs": [
    {
     "data": {
      "text/plain": [
       "array([[175, 175, 175],\n",
       "       [175, 175, 175]])"
      ]
     },
     "execution_count": 7,
     "metadata": {},
     "output_type": "execute_result"
    }
   ],
   "source": [
    "t1.grad"
   ]
  },
  {
   "cell_type": "code",
   "execution_count": 8,
   "metadata": {},
   "outputs": [
    {
     "data": {
      "text/plain": [
       "array([[21, 21, 21],\n",
       "       [21, 21, 21]])"
      ]
     },
     "execution_count": 8,
     "metadata": {},
     "output_type": "execute_result"
    }
   ],
   "source": [
    "t2.grad"
   ]
  },
  {
   "cell_type": "code",
   "execution_count": 9,
   "metadata": {},
   "outputs": [],
   "source": [
    "t3.grad"
   ]
  },
  {
   "cell_type": "code",
   "execution_count": null,
   "metadata": {},
   "outputs": [],
   "source": []
  },
  {
   "cell_type": "code",
   "execution_count": null,
   "metadata": {},
   "outputs": [],
   "source": []
  }
 ],
 "metadata": {
  "kernelspec": {
   "display_name": "Python 3",
   "language": "python",
   "name": "python3"
  },
  "language_info": {
   "codemirror_mode": {
    "name": "ipython",
    "version": 3
   },
   "file_extension": ".py",
   "mimetype": "text/x-python",
   "name": "python",
   "nbconvert_exporter": "python",
   "pygments_lexer": "ipython3",
   "version": "3.6.5"
  }
 },
 "nbformat": 4,
 "nbformat_minor": 2
}
