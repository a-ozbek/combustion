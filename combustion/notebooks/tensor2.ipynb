{
 "cells": [
  {
   "cell_type": "code",
   "execution_count": 1,
   "metadata": {},
   "outputs": [],
   "source": [
    "import numpy as np"
   ]
  },
  {
   "cell_type": "code",
   "execution_count": 2,
   "metadata": {},
   "outputs": [],
   "source": [
    "class Tensor:\n",
    "    \"\"\"\n",
    "    Tensor\n",
    "    \"\"\"\n",
    "    def __init__(self, numpy_array):\n",
    "        if not isinstance(numpy_array, np.ndarray):\n",
    "            raise ValueError(\"Must be initialized with a Numpy array\")\n",
    "        self.value = numpy_array\n",
    "        self.previous_tensors = None\n",
    "        self.operation = None  # type of operation done to create this tensor.\n",
    "        self.grad = None\n",
    "        \n",
    "    def backward(self):\n",
    "        self._compute_grads(self)\n",
    "    \n",
    "    def _compute_grads(self, tensor):\n",
    "        if tensor.grad is None:\n",
    "            tensor.grad = np.full(self.value.shape, 1)\n",
    "        \n",
    "        if tensor.previous_tensors is None:\n",
    "            return\n",
    "        else:\n",
    "            t1, t2 = tensor.previous_tensors\n",
    "            if t1.grad is None:\n",
    "                t1.grad = 0\n",
    "            if t2.grad is None:\n",
    "                t2.grad = 0\n",
    "            \n",
    "            if tensor.operation == 'add':\n",
    "                t1.grad = t1.grad + tensor.grad\n",
    "                t2.grad = t2.grad + tensor.grad\n",
    "            elif tensor.operation == 'mul':\n",
    "                t1.grad = t1.grad + tensor.grad * t2.value \n",
    "                t2.grad = t2.grad + tensor.grad * t1.value\n",
    "            else:\n",
    "                raise ValueError(\"Invalid operation\")\n",
    "            tensor.grad = None  # remove for saving memory\n",
    "            self._compute_grads(t1)\n",
    "            self._compute_grads(t2)\n",
    "    \n",
    "    def _add_tensor(self, other):\n",
    "        \"\"\"\n",
    "        Tensor addition (core)\n",
    "        \"\"\"\n",
    "        if isinstance(other, Tensor):\n",
    "            # check shapes\n",
    "            if not self.value.shape == other.value.shape:\n",
    "                raise ValueError(\"Tensors must have the same shape. shape1: {}, shape2: {}\".\\\n",
    "                                     format(str(self.value.shape), str(other.value.shape)))\n",
    "            operation_result = self.value + other.value\n",
    "            new_tensor = Tensor(operation_result)\n",
    "            new_tensor.operation = 'add'\n",
    "            new_tensor.previous_tensors = [self, other]\n",
    "            return new_tensor\n",
    "        else:\n",
    "            raise ValueError(\"Operands must be of `Tensor` type.\")\n",
    "    \n",
    "    def _mul_tensor(self, other):\n",
    "        \"\"\"\n",
    "        Tensor multiplication (core)\n",
    "        \"\"\"\n",
    "        if isinstance(other, Tensor):\n",
    "            # check shapes\n",
    "            if not self.value.shape == other.value.shape:\n",
    "                raise ValueError(\"Tensors must have the same shape. shape1: {}, shape2: {}\".\\\n",
    "                                     format(str(self.value.shape), str(other.value.shape)))\n",
    "            operation_result = self.value * other.value\n",
    "            new_tensor = Tensor(operation_result)\n",
    "            new_tensor.operation = 'mul'\n",
    "            new_tensor.previous_tensors = [self, other]\n",
    "            return new_tensor\n",
    "        else:\n",
    "            raise ValueError(\"Operands must be of `Tensor` type.\")\n",
    "            \n",
    "    def _convert_other_to_tensor(self, other):\n",
    "        \"\"\"\n",
    "        Convert 'other' to Tensor with proper shape for \n",
    "        proper operation.\n",
    "        \"\"\"\n",
    "        # convert other to Tensor\n",
    "        if isinstance(other, int) or isinstance(other, float):\n",
    "            t = Tensor(np.full(self.value.shape, other))\n",
    "        elif isinstance(other, np.ndarray):\n",
    "            other = np.broadcast_to(other, self.value.shape)\n",
    "            t = Tensor(other)\n",
    "        elif isinstance(other, Tensor):\n",
    "            t = other  # no need to do anything\n",
    "        else:\n",
    "            raise ValueError(\"Invalid type\")\n",
    "        return t\n",
    "    \n",
    "    def __add__(self, other):\n",
    "        print('add is called')\n",
    "        # convert other to tensor\n",
    "        t = self._convert_other_to_tensor(other)\n",
    "        # do tensor addition\n",
    "        return self._add_tensor(t)\n",
    "    \n",
    "    def __radd__(self, other):\n",
    "        print('radd is called')\n",
    "        return self.__add__(other)\n",
    "            \n",
    "    def __mul__(self, other):\n",
    "        # convert other to tensor\n",
    "        t = self._convert_other_to_tensor(other)\n",
    "        # do tensor multiplication\n",
    "        return self._mul_tensor(t)\n",
    "    \n",
    "    def __rmul__(self, other):\n",
    "        pass\n",
    "        \n",
    "    def __sub__(self, other):\n",
    "        # convert other to tensor\n",
    "        t = self._convert_other_to_tensor(other * (-1))\n",
    "        # do tensor addition\n",
    "        return self._add_tensor(t)\n",
    "    \n",
    "    def __str__(self):\n",
    "        r = self.value.__repr__()\n",
    "        r = r.replace('array', 'Tensor')\n",
    "        return r\n",
    "    \n",
    "    def __repr__(self):\n",
    "        r = self.value.__repr__()\n",
    "        r = r.replace('array', 'Tensor')\n",
    "        return r"
   ]
  },
  {
   "cell_type": "code",
   "execution_count": 3,
   "metadata": {},
   "outputs": [],
   "source": [
    "arr1 = np.random.rand(2, 3)\n",
    "arr2 = np.random.rand(2, 3)"
   ]
  },
  {
   "cell_type": "code",
   "execution_count": 4,
   "metadata": {},
   "outputs": [
    {
     "name": "stdout",
     "output_type": "stream",
     "text": [
      "t1: Tensor([[0.62790939, 0.02088899, 0.77589682],\n",
      "       [0.33091475, 0.62283198, 0.42861502]])\n",
      "t2: Tensor([[0.07779507, 0.35637753, 0.07092641],\n",
      "       [0.89576192, 0.2294203 , 0.04415745]])\n"
     ]
    }
   ],
   "source": [
    "t1 = Tensor(arr1)\n",
    "t2 = Tensor(arr2)\n",
    "print('t1:', t1)\n",
    "print('t2:', t2)"
   ]
  },
  {
   "cell_type": "code",
   "execution_count": 5,
   "metadata": {},
   "outputs": [
    {
     "name": "stdout",
     "output_type": "stream",
     "text": [
      "add is called\n",
      "add is called\n",
      "add is called\n",
      "add is called\n",
      "add is called\n",
      "add is called\n",
      "add is called\n"
     ]
    }
   ],
   "source": [
    "t5 = t1 + t1 + t1 + t1 + t1 + t1 + t1\n",
    "t6 = t5 + t5 + t5"
   ]
  },
  {
   "cell_type": "code",
   "execution_count": 6,
   "metadata": {},
   "outputs": [],
   "source": [
    "t6.backward()"
   ]
  },
  {
   "cell_type": "code",
   "execution_count": 7,
   "metadata": {},
   "outputs": [
    {
     "data": {
      "text/plain": [
       "array([[21, 21, 21],\n",
       "       [21, 21, 21]])"
      ]
     },
     "execution_count": 7,
     "metadata": {},
     "output_type": "execute_result"
    }
   ],
   "source": [
    "t1.grad"
   ]
  },
  {
   "cell_type": "code",
   "execution_count": null,
   "metadata": {},
   "outputs": [],
   "source": []
  },
  {
   "cell_type": "code",
   "execution_count": null,
   "metadata": {},
   "outputs": [],
   "source": []
  },
  {
   "cell_type": "code",
   "execution_count": 5,
   "metadata": {},
   "outputs": [],
   "source": [
    "t10 = (t1 - 2) * (t1 - 2)"
   ]
  },
  {
   "cell_type": "code",
   "execution_count": 6,
   "metadata": {},
   "outputs": [],
   "source": [
    "t10.backward()"
   ]
  },
  {
   "cell_type": "code",
   "execution_count": 7,
   "metadata": {},
   "outputs": [
    {
     "data": {
      "text/plain": [
       "array([[-2.99519256, -3.70566587, -3.57598042],\n",
       "       [-2.62173808, -2.41002425, -2.09688913]])"
      ]
     },
     "execution_count": 7,
     "metadata": {},
     "output_type": "execute_result"
    }
   ],
   "source": [
    "t1.grad"
   ]
  },
  {
   "cell_type": "code",
   "execution_count": 11,
   "metadata": {},
   "outputs": [
    {
     "data": {
      "text/plain": [
       "Tensor([[-1.49759628, -1.85283293, -1.78799021],\n",
       "       [-1.31086904, -1.20501212, -1.04844457]])"
      ]
     },
     "execution_count": 11,
     "metadata": {},
     "output_type": "execute_result"
    }
   ],
   "source": [
    "(2 * t1) - 4"
   ]
  },
  {
   "cell_type": "code",
   "execution_count": 14,
   "metadata": {},
   "outputs": [
    {
     "data": {
      "text/plain": [
       "Tensor([[2.50240372, 2.14716707, 2.21200979],\n",
       "       [2.68913096, 2.79498788, 2.95155543]])"
      ]
     },
     "execution_count": 14,
     "metadata": {},
     "output_type": "execute_result"
    }
   ],
   "source": [
    "t1 + 2"
   ]
  },
  {
   "cell_type": "code",
   "execution_count": null,
   "metadata": {},
   "outputs": [],
   "source": []
  },
  {
   "cell_type": "code",
   "execution_count": 47,
   "metadata": {},
   "outputs": [
    {
     "ename": "TypeError",
     "evalue": "unsupported operand type(s) for /: 'Tensor' and 'Tensor'",
     "output_type": "error",
     "traceback": [
      "\u001b[0;31m---------------------------------------------------------------------------\u001b[0m",
      "\u001b[0;31mTypeError\u001b[0m                                 Traceback (most recent call last)",
      "\u001b[0;32m<ipython-input-47-1cbdcb4558a2>\u001b[0m in \u001b[0;36m<module>\u001b[0;34m\u001b[0m\n\u001b[0;32m----> 1\u001b[0;31m \u001b[0mt10\u001b[0m \u001b[0;34m=\u001b[0m \u001b[0;34m(\u001b[0m\u001b[0mt1\u001b[0m \u001b[0;34m+\u001b[0m \u001b[0;36m2\u001b[0m\u001b[0;34m)\u001b[0m \u001b[0;34m/\u001b[0m \u001b[0;34m(\u001b[0m\u001b[0mt1\u001b[0m \u001b[0;34m+\u001b[0m \u001b[0;36m2\u001b[0m\u001b[0;34m)\u001b[0m\u001b[0;34m\u001b[0m\u001b[0m\n\u001b[0m",
      "\u001b[0;31mTypeError\u001b[0m: unsupported operand type(s) for /: 'Tensor' and 'Tensor'"
     ]
    }
   ],
   "source": [
    "t10 = (t1 + 2) / (t1 + 2)"
   ]
  },
  {
   "cell_type": "code",
   "execution_count": 44,
   "metadata": {},
   "outputs": [],
   "source": [
    "t10.backward()"
   ]
  },
  {
   "cell_type": "code",
   "execution_count": 45,
   "metadata": {},
   "outputs": [
    {
     "data": {
      "text/plain": [
       "array([[5.52619492, 4.71267724, 5.95470321],\n",
       "       [4.45144276, 4.1928202 , 5.00457934]])"
      ]
     },
     "execution_count": 45,
     "metadata": {},
     "output_type": "execute_result"
    }
   ],
   "source": [
    "t1.grad"
   ]
  },
  {
   "cell_type": "code",
   "execution_count": 46,
   "metadata": {},
   "outputs": [
    {
     "data": {
      "text/plain": [
       "array([[5.52619492, 4.71267724, 5.95470321],\n",
       "       [4.45144276, 4.1928202 , 5.00457934]])"
      ]
     },
     "execution_count": 46,
     "metadata": {},
     "output_type": "execute_result"
    }
   ],
   "source": [
    "2 * arr1 + 4"
   ]
  },
  {
   "cell_type": "code",
   "execution_count": null,
   "metadata": {},
   "outputs": [],
   "source": []
  },
  {
   "cell_type": "code",
   "execution_count": 6,
   "metadata": {},
   "outputs": [
    {
     "ename": "NameError",
     "evalue": "name 't20' is not defined",
     "output_type": "error",
     "traceback": [
      "\u001b[0;31m---------------------------------------------------------------------------\u001b[0m",
      "\u001b[0;31mNameError\u001b[0m                                 Traceback (most recent call last)",
      "\u001b[0;32m<ipython-input-6-f70fb7ca7b5c>\u001b[0m in \u001b[0;36m<module>\u001b[0;34m\u001b[0m\n\u001b[0;32m----> 1\u001b[0;31m \u001b[0mt20\u001b[0m\u001b[0;34m.\u001b[0m\u001b[0mbackward\u001b[0m\u001b[0;34m(\u001b[0m\u001b[0;34m)\u001b[0m\u001b[0;34m\u001b[0m\u001b[0m\n\u001b[0m",
      "\u001b[0;31mNameError\u001b[0m: name 't20' is not defined"
     ]
    }
   ],
   "source": [
    "t20.backward()"
   ]
  },
  {
   "cell_type": "code",
   "execution_count": null,
   "metadata": {},
   "outputs": [],
   "source": [
    "t1.grad"
   ]
  },
  {
   "cell_type": "code",
   "execution_count": 6,
   "metadata": {},
   "outputs": [],
   "source": [
    "import torch"
   ]
  },
  {
   "cell_type": "code",
   "execution_count": 7,
   "metadata": {},
   "outputs": [
    {
     "data": {
      "text/plain": [
       "tensor([[0.8264, 0.3591, 0.8097],\n",
       "        [0.5179, 0.3105, 0.6348]])"
      ]
     },
     "execution_count": 7,
     "metadata": {},
     "output_type": "execute_result"
    }
   ],
   "source": [
    "t = torch.rand(2, 3)\n",
    "t"
   ]
  },
  {
   "cell_type": "code",
   "execution_count": 9,
   "metadata": {},
   "outputs": [],
   "source": [
    "a = 'txt_another'"
   ]
  },
  {
   "cell_type": "code",
   "execution_count": 11,
   "metadata": {},
   "outputs": [
    {
     "data": {
      "text/plain": [
       "'some_another'"
      ]
     },
     "execution_count": 11,
     "metadata": {},
     "output_type": "execute_result"
    }
   ],
   "source": [
    "a.replace('txt', 'some')"
   ]
  },
  {
   "cell_type": "code",
   "execution_count": null,
   "metadata": {},
   "outputs": [],
   "source": []
  },
  {
   "cell_type": "code",
   "execution_count": null,
   "metadata": {},
   "outputs": [],
   "source": []
  }
 ],
 "metadata": {
  "kernelspec": {
   "display_name": "Python 3",
   "language": "python",
   "name": "python3"
  },
  "language_info": {
   "codemirror_mode": {
    "name": "ipython",
    "version": 3
   },
   "file_extension": ".py",
   "mimetype": "text/x-python",
   "name": "python",
   "nbconvert_exporter": "python",
   "pygments_lexer": "ipython3",
   "version": "3.6.5"
  }
 },
 "nbformat": 4,
 "nbformat_minor": 2
}
