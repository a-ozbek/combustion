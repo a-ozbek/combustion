{
 "cells": [
  {
   "cell_type": "code",
   "execution_count": 1,
   "metadata": {},
   "outputs": [],
   "source": [
    "import numpy as np"
   ]
  },
  {
   "cell_type": "code",
   "execution_count": 48,
   "metadata": {},
   "outputs": [],
   "source": [
    "class Tensor:\n",
    "    \"\"\"\n",
    "    Tensor\n",
    "    \"\"\"\n",
    "    def __init__(self, numpy_array):\n",
    "        if not isinstance(numpy_array, np.ndarray):\n",
    "            raise ValueError(\"The class must be initialized with a Numpy array\")\n",
    "        self.value = numpy_array\n",
    "        self.previous_tensors = None\n",
    "        self.operation = None  # type of operation done to create this tensor.\n",
    "        self.grad = np.full(self.value.shape, 1)\n",
    "        \n",
    "    def backward(self):\n",
    "        self.compute_grads(self)\n",
    "    \n",
    "    def compute_grads(self, tensor):\n",
    "        if tensor.previous_tensors is None:\n",
    "            print('stopped')\n",
    "#             print('tensor:', tensor)\n",
    "            return\n",
    "        else:\n",
    "            t1, t2 = tensor.previous_tensors\n",
    "#             print('t1_computed:', str(t1_computed))\n",
    "#             print('t2_computed:', str(t2_computed))\n",
    "#             print('t1:', str(t1))\n",
    "#             print('t2:', str(t2))\n",
    "#             print('tensor.grad:', str(tensor.grad))\n",
    "#             if t1_computed is None or t2_computed is None:\n",
    "#                 return\n",
    "            if tensor.operation == 'add':\n",
    "                print('r add')\n",
    "                t1.grad = tensor.grad\n",
    "                t2.grad = tensor.grad\n",
    "            elif tensor.operation == 'mul':\n",
    "                print('***1')\n",
    "                print('r mull')\n",
    "                print('t1.value:', t1.value)\n",
    "                print('t2.value:', t2.value)\n",
    "                print('tensor.value', tensor.value)\n",
    "                print('tensor.grad:', tensor.grad)\n",
    "                t1.grad = tensor.grad * t2.value # * t1.grad\n",
    "                t2.grad = tensor.grad * t1.value # * t2.grad\n",
    "                print('t1.grad:', t1.grad)\n",
    "                print('t2.grad:', t2.grad)\n",
    "                print('***2')\n",
    "            else:\n",
    "                raise ValueError(\"Invalid operation\")\n",
    "            self.compute_grads(t1)\n",
    "            self.compute_grads(t2)\n",
    "    \n",
    "            \n",
    "    def __add__(self, other):\n",
    "        if isinstance(other, Tensor):\n",
    "            # check shapes\n",
    "            if not self.value.shape == other.value.shape:\n",
    "                raise ValueError(\"Tensors must have the same shape. shape1: {}, shape2: {}\".\\\n",
    "                                     format(str(self.value.shape), str(other.value.shape)))\n",
    "            operation_result = self.value + other.value\n",
    "            new_tensor = Tensor(operation_result)\n",
    "            new_tensor.operation = 'add'\n",
    "            new_tensor.previous_tensors = [self, other]\n",
    "            print('add operation happened')\n",
    "            return new_tensor\n",
    "        else:\n",
    "            raise ValueError(\"Operands must be of `Tensor` type.\")\n",
    "            \n",
    "    \n",
    "    def __mul__(self, other):\n",
    "        if isinstance(other, Tensor):\n",
    "            # check shapes\n",
    "            if not self.value.shape == other.value.shape:\n",
    "                raise ValueError(\"Tensors must have the same shape. shape1: {}, shape2: {}\".\\\n",
    "                                     format(str(self.value.shape), str(other.value.shape)))\n",
    "            operation_result = self.value * other.value\n",
    "            new_tensor = Tensor(operation_result)\n",
    "            new_tensor.operation = 'mul'\n",
    "            new_tensor.previous_tensors = [self, other]\n",
    "            print('mul operation happened')\n",
    "            return new_tensor\n",
    "        else:\n",
    "            raise ValueError(\"Operands must be of `Tensor` type.\")\n",
    "            \n",
    "            \n",
    "    \n",
    "        \n",
    "#     def __radd__(self, other):\n",
    "#         return self.__add__(other)\n",
    "    \n",
    "#     def __sub__(self, other):\n",
    "#         if isinstance(other, Tensor):\n",
    "#             # check shapes\n",
    "#             if not self.value.shape == other.value.shape:\n",
    "#                 raise ValueError(\"Tensors must have the same shape. shape1: {}, shape2: {}\".\\\n",
    "#                                      format(str(self.value.shape), str(other.value.shape)))\n",
    "#             operation_result = self.value - other.value\n",
    "#             new_tensor = Tensor(operation_result)\n",
    "#             new_tensor.operation = 'sub'\n",
    "#             new_tensor.previous_tensors = [self, other]\n",
    "#             return new_tensor\n",
    "#         else:\n",
    "#             raise ValueError(\"Operands must be of `Tensor` type.\")\n",
    "        \n",
    "#     def __rsub__(self, other):\n",
    "#         self.operation = ('rsub', other)\n",
    "#         operation_result = other - self.value\n",
    "#         new_tensor = Tensor(numpy_array=operation_result)\n",
    "#         new_tensor.previous_tensor = self\n",
    "#         return new_tensor\n",
    "    \n",
    "#     def __mul__(self, other):\n",
    "#         self.operation = ('mul', other)\n",
    "#         operation_result = self.value * other\n",
    "#         new_tensor = Tensor(numpy_array=operation_result)\n",
    "#         new_tensor.previous_tensor = self\n",
    "#         return new_tensor\n",
    "    \n",
    "#     def mean(self):\n",
    "#         self.operation = ('mean', None)\n",
    "#         operation_result = self.value.mean()\n",
    "#         new_tensor = Tensor(numpy_array=operation_result)\n",
    "#         new_tensor.previous_tensor = self\n",
    "#         return new_tensor\n",
    "    \n",
    "    def __str__(self):\n",
    "        return self.value.__repr__()"
   ]
  },
  {
   "cell_type": "code",
   "execution_count": 49,
   "metadata": {},
   "outputs": [],
   "source": [
    "arr1 = np.random.rand(2, 3)\n",
    "arr2 = np.random.rand(2, 3)"
   ]
  },
  {
   "cell_type": "code",
   "execution_count": 50,
   "metadata": {},
   "outputs": [
    {
     "name": "stdout",
     "output_type": "stream",
     "text": [
      "t1: array([[0.09319635, 0.74281403, 0.20479885],\n",
      "       [0.50613533, 0.6297899 , 0.76707507]])\n",
      "t2: array([[0.5040132 , 0.45849585, 0.80932387],\n",
      "       [0.75253264, 0.81481345, 0.75878153]])\n"
     ]
    }
   ],
   "source": [
    "t1 = Tensor(arr1)\n",
    "t2 = Tensor(arr2)\n",
    "print('t1:', t1)\n",
    "print('t2:', t2)"
   ]
  },
  {
   "cell_type": "code",
   "execution_count": 51,
   "metadata": {},
   "outputs": [
    {
     "name": "stdout",
     "output_type": "stream",
     "text": [
      "mul operation happened\n",
      "mul operation happened\n",
      "mul operation happened\n",
      "add operation happened\n",
      "add operation happened\n",
      "mul operation happened\n"
     ]
    }
   ],
   "source": [
    "t3 = t1 * Tensor(np.full(arr1.shape, 5)) * Tensor(np.full(arr1.shape, 5)) + t2 * Tensor(np.full(arr1.shape, 3))\n",
    "t4 = (t3 + Tensor(np.full(arr1.shape, 2))) * Tensor(np.full(arr1.shape, 7))"
   ]
  },
  {
   "cell_type": "code",
   "execution_count": 55,
   "metadata": {
    "scrolled": true
   },
   "outputs": [
    {
     "name": "stdout",
     "output_type": "stream",
     "text": [
      "***1\n",
      "r mull\n",
      "t1.value: [[ 5.84194824 21.94583818  9.54794294]\n",
      " [16.91098129 20.18918778 23.45322127]]\n",
      "t2.value: [[7 7 7]\n",
      " [7 7 7]]\n",
      "tensor.value [[ 40.89363768 153.62086725  66.8356006 ]\n",
      " [118.37686904 141.32431445 164.17254886]]\n",
      "tensor.grad: [[1 1 1]\n",
      " [1 1 1]]\n",
      "t1.grad: [[7 7 7]\n",
      " [7 7 7]]\n",
      "t2.grad: [[ 5.84194824 21.94583818  9.54794294]\n",
      " [16.91098129 20.18918778 23.45322127]]\n",
      "***2\n",
      "r add\n",
      "r add\n",
      "***1\n",
      "r mull\n",
      "t1.value: [[0.46598173 3.71407013 1.02399426]\n",
      " [2.53067667 3.14894949 3.83537534]]\n",
      "t2.value: [[5 5 5]\n",
      " [5 5 5]]\n",
      "tensor.value [[ 2.32990863 18.57035063  5.11997132]\n",
      " [12.65338337 15.74474743 19.17687668]]\n",
      "tensor.grad: [[7 7 7]\n",
      " [7 7 7]]\n",
      "t1.grad: [[35 35 35]\n",
      " [35 35 35]]\n",
      "t2.grad: [[ 3.26187209 25.99849088  7.16795985]\n",
      " [17.71473672 22.0426464  26.84762735]]\n",
      "***2\n",
      "***1\n",
      "r mull\n",
      "t1.value: [[0.09319635 0.74281403 0.20479885]\n",
      " [0.50613533 0.6297899  0.76707507]]\n",
      "t2.value: [[5 5 5]\n",
      " [5 5 5]]\n",
      "tensor.value [[0.46598173 3.71407013 1.02399426]\n",
      " [2.53067667 3.14894949 3.83537534]]\n",
      "tensor.grad: [[35 35 35]\n",
      " [35 35 35]]\n",
      "t1.grad: [[175 175 175]\n",
      " [175 175 175]]\n",
      "t2.grad: [[ 3.26187209 25.99849088  7.16795985]\n",
      " [17.71473672 22.0426464  26.84762735]]\n",
      "***2\n",
      "stopped\n",
      "stopped\n",
      "stopped\n",
      "***1\n",
      "r mull\n",
      "t1.value: [[0.5040132  0.45849585 0.80932387]\n",
      " [0.75253264 0.81481345 0.75878153]]\n",
      "t2.value: [[3 3 3]\n",
      " [3 3 3]]\n",
      "tensor.value [[1.51203961 1.37548755 2.42797162]\n",
      " [2.25759792 2.44444035 2.27634458]]\n",
      "tensor.grad: [[7 7 7]\n",
      " [7 7 7]]\n",
      "t1.grad: [[21 21 21]\n",
      " [21 21 21]]\n",
      "t2.grad: [[3.52809242 3.20947094 5.66526712]\n",
      " [5.26772847 5.70369414 5.3114707 ]]\n",
      "***2\n",
      "stopped\n",
      "stopped\n",
      "stopped\n",
      "stopped\n"
     ]
    }
   ],
   "source": [
    "t4.backward()"
   ]
  },
  {
   "cell_type": "code",
   "execution_count": 56,
   "metadata": {},
   "outputs": [
    {
     "data": {
      "text/plain": [
       "array([[175, 175, 175],\n",
       "       [175, 175, 175]])"
      ]
     },
     "execution_count": 56,
     "metadata": {},
     "output_type": "execute_result"
    }
   ],
   "source": [
    "t1.grad"
   ]
  },
  {
   "cell_type": "code",
   "execution_count": 54,
   "metadata": {},
   "outputs": [
    {
     "data": {
      "text/plain": [
       "array([[3, 3, 3],\n",
       "       [3, 3, 3]])"
      ]
     },
     "execution_count": 54,
     "metadata": {},
     "output_type": "execute_result"
    }
   ],
   "source": [
    "t2.grad"
   ]
  },
  {
   "cell_type": "code",
   "execution_count": 58,
   "metadata": {},
   "outputs": [
    {
     "data": {
      "text/plain": [
       "array([[7, 7, 7],\n",
       "       [7, 7, 7]])"
      ]
     },
     "execution_count": 58,
     "metadata": {},
     "output_type": "execute_result"
    }
   ],
   "source": [
    "t3.grad"
   ]
  },
  {
   "cell_type": "code",
   "execution_count": null,
   "metadata": {},
   "outputs": [],
   "source": []
  },
  {
   "cell_type": "code",
   "execution_count": null,
   "metadata": {},
   "outputs": [],
   "source": []
  }
 ],
 "metadata": {
  "kernelspec": {
   "display_name": "Python 3",
   "language": "python",
   "name": "python3"
  },
  "language_info": {
   "codemirror_mode": {
    "name": "ipython",
    "version": 3
   },
   "file_extension": ".py",
   "mimetype": "text/x-python",
   "name": "python",
   "nbconvert_exporter": "python",
   "pygments_lexer": "ipython3",
   "version": "3.6.5"
  }
 },
 "nbformat": 4,
 "nbformat_minor": 2
}
