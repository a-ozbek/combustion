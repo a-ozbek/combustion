{
 "cells": [
  {
   "cell_type": "code",
   "execution_count": null,
   "metadata": {},
   "outputs": [],
   "source": []
  },
  {
   "cell_type": "code",
   "execution_count": null,
   "metadata": {},
   "outputs": [],
   "source": [
    "class Tensor:\n",
    "    \"\"\"\n",
    "    Tensor\n",
    "    \"\"\"\n",
    "    def __init__(self, numpy_array):\n",
    "        self.value = numpy_array\n",
    "        self.previous_tensor = None\n",
    "        self.operation = None\n",
    "        self.grad = None\n",
    "        \n",
    "    def backward(self):\n",
    "        pass\n",
    "        \n",
    "    def __add__(self, other):\n",
    "        pass\n",
    "        \n",
    "    \n",
    "    def __radd__(self, other):\n",
    "        return self.__add__(other)\n",
    "    \n",
    "    def __sub__(self, other):\n",
    "        self.operation = ('sub', other)\n",
    "        operation_result = self.value - other\n",
    "        new_tensor = Tensor(numpy_array=operation_result)\n",
    "        new_tensor.previous_tensor = self\n",
    "        return new_tensor\n",
    "        \n",
    "    def __rsub__(self, other):\n",
    "        self.operation = ('rsub', other)\n",
    "        operation_result = other - self.value\n",
    "        new_tensor = Tensor(numpy_array=operation_result)\n",
    "        new_tensor.previous_tensor = self\n",
    "        return new_tensor\n",
    "    \n",
    "    def __mul__(self, other):\n",
    "        self.operation = ('mul', other)\n",
    "        operation_result = self.value * other\n",
    "        new_tensor = Tensor(numpy_array=operation_result)\n",
    "        new_tensor.previous_tensor = self\n",
    "        return new_tensor\n",
    "    \n",
    "    def mean(self):\n",
    "        self.operation = ('mean', None)\n",
    "        operation_result = self.value.mean()\n",
    "        new_tensor = Tensor(numpy_array=operation_result)\n",
    "        new_tensor.previous_tensor = self\n",
    "        return new_tensor\n",
    "    \n",
    "    def __str__(self):\n",
    "        return self.value.__repr__()"
   ]
  },
  {
   "cell_type": "code",
   "execution_count": null,
   "metadata": {},
   "outputs": [],
   "source": []
  },
  {
   "cell_type": "code",
   "execution_count": null,
   "metadata": {},
   "outputs": [],
   "source": []
  }
 ],
 "metadata": {
  "kernelspec": {
   "display_name": "Python 3",
   "language": "python",
   "name": "python3"
  },
  "language_info": {
   "codemirror_mode": {
    "name": "ipython",
    "version": 3
   },
   "file_extension": ".py",
   "mimetype": "text/x-python",
   "name": "python",
   "nbconvert_exporter": "python",
   "pygments_lexer": "ipython3",
   "version": "3.6.5"
  }
 },
 "nbformat": 4,
 "nbformat_minor": 2
}
