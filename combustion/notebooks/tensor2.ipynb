{
 "cells": [
  {
   "cell_type": "code",
   "execution_count": 1,
   "metadata": {},
   "outputs": [],
   "source": [
    "import torch"
   ]
  },
  {
   "cell_type": "code",
   "execution_count": 2,
   "metadata": {},
   "outputs": [
    {
     "data": {
      "text/plain": [
       "tensor([[0.1120, 0.2378, 0.9129],\n",
       "        [0.7379, 0.8068, 0.0403]], requires_grad=True)"
      ]
     },
     "execution_count": 2,
     "metadata": {},
     "output_type": "execute_result"
    }
   ],
   "source": [
    "t1 = torch.rand(2, 3, requires_grad=True)\n",
    "t1"
   ]
  },
  {
   "cell_type": "code",
   "execution_count": 3,
   "metadata": {
    "scrolled": true
   },
   "outputs": [],
   "source": [
    "t2 = t1 ** (1.234)"
   ]
  },
  {
   "cell_type": "code",
   "execution_count": 5,
   "metadata": {
    "scrolled": true
   },
   "outputs": [],
   "source": [
    "t2.mean().backward()"
   ]
  },
  {
   "cell_type": "code",
   "execution_count": null,
   "metadata": {},
   "outputs": [],
   "source": []
  },
  {
   "cell_type": "code",
   "execution_count": null,
   "metadata": {},
   "outputs": [],
   "source": []
  },
  {
   "cell_type": "code",
   "execution_count": null,
   "metadata": {},
   "outputs": [],
   "source": []
  },
  {
   "cell_type": "code",
   "execution_count": 7,
   "metadata": {},
   "outputs": [
    {
     "data": {
      "text/plain": [
       "tensor([[0.1667, 0.1667, 0.1667],\n",
       "        [0.1667, 0.1667, 0.1667]])"
      ]
     },
     "execution_count": 7,
     "metadata": {},
     "output_type": "execute_result"
    }
   ],
   "source": [
    "t1.grad"
   ]
  },
  {
   "cell_type": "code",
   "execution_count": 8,
   "metadata": {},
   "outputs": [
    {
     "data": {
      "text/plain": [
       "0.16666666666666666"
      ]
     },
     "execution_count": 8,
     "metadata": {},
     "output_type": "execute_result"
    }
   ],
   "source": [
    "1/6.0"
   ]
  },
  {
   "cell_type": "code",
   "execution_count": 4,
   "metadata": {},
   "outputs": [],
   "source": [
    "t3.backward()"
   ]
  },
  {
   "cell_type": "code",
   "execution_count": 5,
   "metadata": {},
   "outputs": [
    {
     "data": {
      "text/plain": [
       "tensor([[0.5000, 0.5000, 0.5000],\n",
       "        [0.5000, 0.5000, 0.5000]])"
      ]
     },
     "execution_count": 5,
     "metadata": {},
     "output_type": "execute_result"
    }
   ],
   "source": [
    "t1.grad"
   ]
  },
  {
   "cell_type": "code",
   "execution_count": null,
   "metadata": {},
   "outputs": [],
   "source": []
  },
  {
   "cell_type": "code",
   "execution_count": 23,
   "metadata": {},
   "outputs": [],
   "source": [
    "import numpy as np"
   ]
  },
  {
   "cell_type": "code",
   "execution_count": 41,
   "metadata": {},
   "outputs": [],
   "source": [
    "class Tensor:\n",
    "    \"\"\"\n",
    "    Tensor\n",
    "    \"\"\"\n",
    "    def __init__(self, numpy_array):\n",
    "        if not isinstance(numpy_array, np.ndarray):\n",
    "            raise ValueError(\"Must be initialized with a Numpy array\")\n",
    "        self.value = numpy_array\n",
    "        self.previous_tensors = None\n",
    "        self.operation = None  # type of operation done to create this tensor.\n",
    "        self.grad = None\n",
    "        \n",
    "    def backward(self):\n",
    "        self._compute_grads(self)\n",
    "    \n",
    "    def _compute_grads(self, tensor):\n",
    "        if tensor.grad is None:\n",
    "            tensor.grad = np.full(self.value.shape, 1)\n",
    "        \n",
    "        if tensor.previous_tensors is None:\n",
    "            return\n",
    "        else:\n",
    "            t1, t2 = tensor.previous_tensors\n",
    "            if t1.grad is None:\n",
    "                t1.grad = 0\n",
    "            if t2.grad is None:\n",
    "                t2.grad = 0\n",
    "            \n",
    "            if tensor.operation == 'add':\n",
    "                t1.grad = t1.grad + tensor.grad\n",
    "                t2.grad = t2.grad + tensor.grad\n",
    "            elif tensor.operation == 'mul':\n",
    "                t1.grad = t1.grad + tensor.grad * t2.value \n",
    "                t2.grad = t2.grad + tensor.grad * t1.value\n",
    "            else:\n",
    "                raise ValueError(\"Invalid operation\")\n",
    "            tensor.grad = None  # remove for saving memory\n",
    "            self._compute_grads(t1)\n",
    "            self._compute_grads(t2)\n",
    "    \n",
    "    def _add_tensor(self, other):\n",
    "        \"\"\"\n",
    "        Tensor addition\n",
    "        \"\"\"\n",
    "        if isinstance(other, Tensor):\n",
    "            # check shapes\n",
    "            if not self.value.shape == other.value.shape:\n",
    "                raise ValueError(\"Tensors must have the same shape. shape1: {}, shape2: {}\".\\\n",
    "                                     format(str(self.value.shape), str(other.value.shape)))\n",
    "            operation_result = self.value + other.value\n",
    "            new_tensor = Tensor(operation_result)\n",
    "            new_tensor.operation = 'add'\n",
    "            new_tensor.previous_tensors = [self, other]\n",
    "            return new_tensor\n",
    "        else:\n",
    "            raise ValueError(\"Operands must be of `Tensor` type.\")\n",
    "    \n",
    "    def _mul_tensor(self, other):\n",
    "        \"\"\"\n",
    "        Tensor multiplication\n",
    "        \"\"\"\n",
    "        if isinstance(other, Tensor):\n",
    "            # check shapes\n",
    "            if not self.value.shape == other.value.shape:\n",
    "                raise ValueError(\"Tensors must have the same shape. shape1: {}, shape2: {}\".\\\n",
    "                                     format(str(self.value.shape), str(other.value.shape)))\n",
    "            operation_result = self.value * other.value\n",
    "            new_tensor = Tensor(operation_result)\n",
    "            new_tensor.operation = 'mul'\n",
    "            new_tensor.previous_tensors = [self, other]\n",
    "            return new_tensor\n",
    "        else:\n",
    "            raise ValueError(\"Operands must be of `Tensor` type.\")\n",
    "            \n",
    "    def _convert_other_to_tensor(self, other):\n",
    "        \"\"\"\n",
    "        Convert 'other' to Tensor with proper shape for \n",
    "        proper operation.\n",
    "        \"\"\"\n",
    "        # convert other to Tensor\n",
    "        if isinstance(other, int) or isinstance(other, float):\n",
    "            t = Tensor(np.full(self.value.shape, other))\n",
    "        elif isinstance(other, np.ndarray):\n",
    "            other = np.broadcast_to(other, self.value.shape)\n",
    "            t = Tensor(other)\n",
    "        elif isinstance(other, Tensor):\n",
    "            t = other  # no need to do anything\n",
    "        else:\n",
    "            raise ValueError(\"Invalid type\")\n",
    "        return t\n",
    "    \n",
    "    def __add__(self, other):\n",
    "        # convert other to tensor\n",
    "        t = self._convert_other_to_tensor(other)\n",
    "        # do tensor addition\n",
    "        return self._add_tensor(t)\n",
    "        \n",
    "    def __mul__(self, other):\n",
    "        # convert other to tensor\n",
    "        t = self._convert_other_to_tensor(other)\n",
    "        # do tensor multiplication\n",
    "        return self._mul_tensor(t)\n",
    "            \n",
    "    def __str__(self):\n",
    "        return self.value.__repr__()"
   ]
  },
  {
   "cell_type": "code",
   "execution_count": 42,
   "metadata": {},
   "outputs": [],
   "source": [
    "arr1 = np.random.rand(2, 3)\n",
    "arr2 = np.random.rand(2, 3)"
   ]
  },
  {
   "cell_type": "code",
   "execution_count": 43,
   "metadata": {},
   "outputs": [
    {
     "name": "stdout",
     "output_type": "stream",
     "text": [
      "t1: array([[0.49488168, 0.39656946, 0.11092324],\n",
      "       [0.32086915, 0.10195837, 0.72973021]])\n",
      "t2: array([[0.42850598, 0.13328499, 0.49256551],\n",
      "       [0.47318013, 0.75443311, 0.67679708]])\n"
     ]
    }
   ],
   "source": [
    "t1 = Tensor(arr1)\n",
    "t2 = Tensor(arr2)\n",
    "print('t1:', t1)\n",
    "print('t2:', t2)"
   ]
  },
  {
   "cell_type": "code",
   "execution_count": 44,
   "metadata": {},
   "outputs": [],
   "source": [
    "t10 = t1 * 2\n",
    "t11 = (t1 + 2) * 3\n",
    "t20 = t10 + t11"
   ]
  },
  {
   "cell_type": "code",
   "execution_count": null,
   "metadata": {},
   "outputs": [],
   "source": []
  },
  {
   "cell_type": "code",
   "execution_count": null,
   "metadata": {},
   "outputs": [],
   "source": []
  },
  {
   "cell_type": "code",
   "execution_count": null,
   "metadata": {},
   "outputs": [],
   "source": []
  },
  {
   "cell_type": "code",
   "execution_count": 33,
   "metadata": {},
   "outputs": [],
   "source": [
    "t3 = t1 * 2"
   ]
  },
  {
   "cell_type": "code",
   "execution_count": 34,
   "metadata": {},
   "outputs": [],
   "source": [
    "t3.backward()"
   ]
  },
  {
   "cell_type": "code",
   "execution_count": 35,
   "metadata": {},
   "outputs": [
    {
     "data": {
      "text/plain": [
       "array([[2, 2, 2],\n",
       "       [2, 2, 2]])"
      ]
     },
     "execution_count": 35,
     "metadata": {},
     "output_type": "execute_result"
    }
   ],
   "source": [
    "t1.grad"
   ]
  },
  {
   "cell_type": "code",
   "execution_count": null,
   "metadata": {},
   "outputs": [],
   "source": []
  },
  {
   "cell_type": "code",
   "execution_count": null,
   "metadata": {},
   "outputs": [],
   "source": []
  },
  {
   "cell_type": "code",
   "execution_count": null,
   "metadata": {},
   "outputs": [],
   "source": []
  },
  {
   "cell_type": "code",
   "execution_count": 31,
   "metadata": {},
   "outputs": [],
   "source": [
    "t5 = t1 * 2"
   ]
  },
  {
   "cell_type": "code",
   "execution_count": 32,
   "metadata": {},
   "outputs": [],
   "source": [
    "t5.backward()"
   ]
  },
  {
   "cell_type": "code",
   "execution_count": 33,
   "metadata": {},
   "outputs": [
    {
     "data": {
      "text/plain": [
       "array([[2, 2, 2],\n",
       "       [2, 2, 2]])"
      ]
     },
     "execution_count": 33,
     "metadata": {},
     "output_type": "execute_result"
    }
   ],
   "source": [
    "t1.grad"
   ]
  },
  {
   "cell_type": "code",
   "execution_count": null,
   "metadata": {},
   "outputs": [],
   "source": []
  },
  {
   "cell_type": "code",
   "execution_count": null,
   "metadata": {},
   "outputs": [],
   "source": []
  },
  {
   "cell_type": "code",
   "execution_count": 5,
   "metadata": {},
   "outputs": [],
   "source": [
    "t3 = Tensor(np.full(arr1.shape, 10)) * t1 * Tensor(np.full(arr1.shape, 5)) * Tensor(np.full(arr1.shape, 5)) + t2 * Tensor(np.full(arr1.shape, 3))\n",
    "t4 = (t3 + Tensor(np.full(arr1.shape, 2))) * Tensor(np.full(arr1.shape, 7))"
   ]
  },
  {
   "cell_type": "code",
   "execution_count": 6,
   "metadata": {
    "scrolled": true
   },
   "outputs": [],
   "source": [
    "t4.backward()"
   ]
  },
  {
   "cell_type": "code",
   "execution_count": 7,
   "metadata": {},
   "outputs": [
    {
     "data": {
      "text/plain": [
       "array([[1750, 1750, 1750],\n",
       "       [1750, 1750, 1750]])"
      ]
     },
     "execution_count": 7,
     "metadata": {},
     "output_type": "execute_result"
    }
   ],
   "source": [
    "t1.grad"
   ]
  },
  {
   "cell_type": "code",
   "execution_count": 8,
   "metadata": {},
   "outputs": [
    {
     "data": {
      "text/plain": [
       "array([[21, 21, 21],\n",
       "       [21, 21, 21]])"
      ]
     },
     "execution_count": 8,
     "metadata": {},
     "output_type": "execute_result"
    }
   ],
   "source": [
    "t2.grad"
   ]
  },
  {
   "cell_type": "code",
   "execution_count": null,
   "metadata": {},
   "outputs": [],
   "source": []
  },
  {
   "cell_type": "code",
   "execution_count": null,
   "metadata": {},
   "outputs": [],
   "source": []
  },
  {
   "cell_type": "code",
   "execution_count": null,
   "metadata": {},
   "outputs": [],
   "source": []
  },
  {
   "cell_type": "code",
   "execution_count": null,
   "metadata": {},
   "outputs": [],
   "source": []
  },
  {
   "cell_type": "code",
   "execution_count": null,
   "metadata": {},
   "outputs": [],
   "source": []
  },
  {
   "cell_type": "code",
   "execution_count": null,
   "metadata": {},
   "outputs": [],
   "source": []
  }
 ],
 "metadata": {
  "kernelspec": {
   "display_name": "Python 3",
   "language": "python",
   "name": "python3"
  },
  "language_info": {
   "codemirror_mode": {
    "name": "ipython",
    "version": 3
   },
   "file_extension": ".py",
   "mimetype": "text/x-python",
   "name": "python",
   "nbconvert_exporter": "python",
   "pygments_lexer": "ipython3",
   "version": "3.6.5"
  }
 },
 "nbformat": 4,
 "nbformat_minor": 2
}
