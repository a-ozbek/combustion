{
 "cells": [
  {
   "cell_type": "code",
   "execution_count": 1,
   "metadata": {},
   "outputs": [],
   "source": [
    "import numpy as np"
   ]
  },
  {
   "cell_type": "code",
   "execution_count": 19,
   "metadata": {},
   "outputs": [],
   "source": [
    "class Tensor:\n",
    "    \"\"\"\n",
    "    Tensor\n",
    "    \"\"\"\n",
    "    def __init__(self, numpy_array):\n",
    "        if not isinstance(numpy_array, np.ndarray):\n",
    "            raise ValueError(\"The class must be initialized with a Numpy array\")\n",
    "        self.value = numpy_array\n",
    "        self.previous_tensors = None\n",
    "        self.operation = None  # type of operation done to create this tensor.\n",
    "        self.grad = None\n",
    "        \n",
    "    def backward(self):\n",
    "        pass\n",
    "    \n",
    "    def compute_grad(self, tensor):\n",
    "        if tensor.previous_tensors is None:\n",
    "            pass\n",
    "        else:\n",
    "            pass\n",
    "        \n",
    "    def __add__(self, other):\n",
    "        if isinstance(other, Tensor):\n",
    "            # check shapes\n",
    "            if not self.value.shape == other.value.shape:\n",
    "                raise ValueError(\"Tensors must have the same shape. shape1: {}, shape2: {}\".\\\n",
    "                                     format(str(self.value.shape), str(other.value.shape)))\n",
    "            operation_result = self.value + other.value\n",
    "            new_tensor = Tensor(operation_result)\n",
    "            new_tensor.operation = 'add'\n",
    "            new_tensor.previous_tensors = [self, other]\n",
    "            return new_tensor\n",
    "        else:\n",
    "            raise ValueError(\"Operands must be of `Tensor` type.\")\n",
    "            \n",
    "    \n",
    "    def __mul__(self, other):\n",
    "        if isinstance(other, Tensor):\n",
    "            # check shapes\n",
    "            if not self.value.shape == other.value.shape:\n",
    "                raise ValueError(\"Tensors must have the same shape. shape1: {}, shape2: {}\".\\\n",
    "                                     format(str(self.value.shape), str(other.value.shape)))\n",
    "            operation_result = self.value * other.value\n",
    "            new_tensor = Tensor(operation_result)\n",
    "            new_tensor.operation = 'mul'\n",
    "            new_tensor.previous_tensors = [self, other]\n",
    "            return new_tensor\n",
    "        else:\n",
    "            raise ValueError(\"Operands must be of `Tensor` type.\")\n",
    "            \n",
    "            \n",
    "    \n",
    "        \n",
    "#     def __radd__(self, other):\n",
    "#         return self.__add__(other)\n",
    "    \n",
    "#     def __sub__(self, other):\n",
    "#         if isinstance(other, Tensor):\n",
    "#             # check shapes\n",
    "#             if not self.value.shape == other.value.shape:\n",
    "#                 raise ValueError(\"Tensors must have the same shape. shape1: {}, shape2: {}\".\\\n",
    "#                                      format(str(self.value.shape), str(other.value.shape)))\n",
    "#             operation_result = self.value - other.value\n",
    "#             new_tensor = Tensor(operation_result)\n",
    "#             new_tensor.operation = 'sub'\n",
    "#             new_tensor.previous_tensors = [self, other]\n",
    "#             return new_tensor\n",
    "#         else:\n",
    "#             raise ValueError(\"Operands must be of `Tensor` type.\")\n",
    "        \n",
    "#     def __rsub__(self, other):\n",
    "#         self.operation = ('rsub', other)\n",
    "#         operation_result = other - self.value\n",
    "#         new_tensor = Tensor(numpy_array=operation_result)\n",
    "#         new_tensor.previous_tensor = self\n",
    "#         return new_tensor\n",
    "    \n",
    "#     def __mul__(self, other):\n",
    "#         self.operation = ('mul', other)\n",
    "#         operation_result = self.value * other\n",
    "#         new_tensor = Tensor(numpy_array=operation_result)\n",
    "#         new_tensor.previous_tensor = self\n",
    "#         return new_tensor\n",
    "    \n",
    "#     def mean(self):\n",
    "#         self.operation = ('mean', None)\n",
    "#         operation_result = self.value.mean()\n",
    "#         new_tensor = Tensor(numpy_array=operation_result)\n",
    "#         new_tensor.previous_tensor = self\n",
    "#         return new_tensor\n",
    "    \n",
    "    def __str__(self):\n",
    "        return self.value.__repr__()"
   ]
  },
  {
   "cell_type": "code",
   "execution_count": 27,
   "metadata": {},
   "outputs": [],
   "source": [
    "arr1 = np.random.rand(2, 3)\n",
    "arr2 = np.random.rand(2, 3)"
   ]
  },
  {
   "cell_type": "code",
   "execution_count": 28,
   "metadata": {},
   "outputs": [
    {
     "name": "stdout",
     "output_type": "stream",
     "text": [
      "t1: array([[0.16062265, 0.33623246, 0.43900086],\n",
      "       [0.08721481, 0.23911905, 0.78727217]])\n",
      "t2: array([[4.81832982e-04, 3.01818775e-01, 5.88160485e-01],\n",
      "       [9.93574224e-01, 8.59893487e-01, 2.02196292e-01]])\n"
     ]
    }
   ],
   "source": [
    "t1 = Tensor(arr1)\n",
    "t2 = Tensor(arr2)\n",
    "print('t1:', t1)\n",
    "print('t2:', t2)"
   ]
  },
  {
   "cell_type": "code",
   "execution_count": 30,
   "metadata": {},
   "outputs": [
    {
     "ename": "TypeError",
     "evalue": "unsupported operand type(s) for /: 'Tensor' and 'Tensor'",
     "output_type": "error",
     "traceback": [
      "\u001b[0;31m---------------------------------------------------------------------------\u001b[0m",
      "\u001b[0;31mTypeError\u001b[0m                                 Traceback (most recent call last)",
      "\u001b[0;32m<ipython-input-30-cbd0b802db39>\u001b[0m in \u001b[0;36m<module>\u001b[0;34m\u001b[0m\n\u001b[0;32m----> 1\u001b[0;31m \u001b[0mt3\u001b[0m \u001b[0;34m=\u001b[0m \u001b[0mt1\u001b[0m \u001b[0;34m/\u001b[0m \u001b[0mt2\u001b[0m\u001b[0;34m\u001b[0m\u001b[0m\n\u001b[0m\u001b[1;32m      2\u001b[0m \u001b[0mprint\u001b[0m\u001b[0;34m(\u001b[0m\u001b[0mt3\u001b[0m\u001b[0;34m)\u001b[0m\u001b[0;34m\u001b[0m\u001b[0m\n",
      "\u001b[0;31mTypeError\u001b[0m: unsupported operand type(s) for /: 'Tensor' and 'Tensor'"
     ]
    }
   ],
   "source": [
    "t3 = t1 / t2\n",
    "print(t3)"
   ]
  },
  {
   "cell_type": "code",
   "execution_count": 23,
   "metadata": {},
   "outputs": [
    {
     "name": "stdout",
     "output_type": "stream",
     "text": [
      "array([[0.91545703, 0.43038079, 0.40962668],\n",
      "       [0.48922999, 0.15241042, 1.17075516]])\n"
     ]
    }
   ],
   "source": [
    "t4 = t2 + t1\n",
    "print(t4)"
   ]
  },
  {
   "cell_type": "code",
   "execution_count": null,
   "metadata": {},
   "outputs": [],
   "source": []
  },
  {
   "cell_type": "code",
   "execution_count": null,
   "metadata": {},
   "outputs": [],
   "source": []
  }
 ],
 "metadata": {
  "kernelspec": {
   "display_name": "Python 3",
   "language": "python",
   "name": "python3"
  },
  "language_info": {
   "codemirror_mode": {
    "name": "ipython",
    "version": 3
   },
   "file_extension": ".py",
   "mimetype": "text/x-python",
   "name": "python",
   "nbconvert_exporter": "python",
   "pygments_lexer": "ipython3",
   "version": "3.6.5"
  }
 },
 "nbformat": 4,
 "nbformat_minor": 2
}
